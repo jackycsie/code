{
 "cells": [
  {
   "cell_type": "markdown",
   "metadata": {},
   "source": [
    "# import function"
   ]
  },
  {
   "cell_type": "code",
   "execution_count": 1,
   "metadata": {
    "ExecuteTime": {
     "end_time": "2018-07-25T12:37:14.101907Z",
     "start_time": "2018-07-25T12:37:12.541487Z"
    }
   },
   "outputs": [
    {
     "name": "stderr",
     "output_type": "stream",
     "text": [
      "/home/letitgo/anaconda3/lib/python3.6/site-packages/h5py/__init__.py:34: FutureWarning: Conversion of the second argument of issubdtype from `float` to `np.floating` is deprecated. In future, it will be treated as `np.float64 == np.dtype(float).type`.\n",
      "  from ._conv import register_converters as _register_converters\n",
      "Using TensorFlow backend.\n",
      "/home/letitgo/anaconda3/lib/python3.6/importlib/_bootstrap.py:205: RuntimeWarning: compiletime version 3.5 of module 'tensorflow.python.framework.fast_tensor_util' does not match runtime version 3.6\n",
      "  return f(*args, **kwds)\n"
     ]
    }
   ],
   "source": [
    "import pickle\n",
    "import numpy as np\n",
    "from __future__ import print_function\n",
    "import random\n",
    "from sklearn.model_selection import train_test_split\n",
    "\n",
    "from keras.models import Sequential\n",
    "from keras.layers import LSTM, Dense, BatchNormalization, Input\n",
    "from keras.optimizers import Adam\n",
    "from keras import callbacks\n",
    "from keras import backend as K\n",
    "\n",
    "from keras.layers import merge\n",
    "from keras.layers.core import *\n",
    "from keras.layers.recurrent import LSTM\n",
    "from keras.models import *\n",
    "\n",
    "from keras.layers import Dense, Activation, Convolution2D, MaxPooling2D, Flatten"
   ]
  },
  {
   "cell_type": "markdown",
   "metadata": {},
   "source": [
    "# Load dataset"
   ]
  },
  {
   "cell_type": "code",
   "execution_count": 2,
   "metadata": {
    "ExecuteTime": {
     "end_time": "2018-07-25T12:37:14.110486Z",
     "start_time": "2018-07-25T12:37:14.103578Z"
    },
    "collapsed": true
   },
   "outputs": [],
   "source": [
    "def get_data(mins):\n",
    "    mins = str(mins)\n",
    "    with open ('data_list_' + mins, 'rb') as fp:\n",
    "        data_list = np.array(pickle.load(fp))\n",
    "        #data_list = np.reshape(data_list, (data_list.shape[0], data_list.shape[1], 1, data_list.shape[2]))\n",
    "        data_list = np.reshape(data_list, (data_list.shape[0], 380, 5))\n",
    "    with open ('label_list_' + mins, 'rb') as fp:\n",
    "        label_list = np.array(pickle.load(fp))\n",
    "\n",
    "    print(data_list.shape)\n",
    "    print(label_list.shape)\n",
    "    \n",
    "    return data_list, label_list"
   ]
  },
  {
   "cell_type": "markdown",
   "metadata": {},
   "source": [
    "# recall"
   ]
  },
  {
   "cell_type": "code",
   "execution_count": 3,
   "metadata": {
    "ExecuteTime": {
     "end_time": "2018-07-25T12:37:14.121570Z",
     "start_time": "2018-07-25T12:37:14.112583Z"
    },
    "collapsed": true
   },
   "outputs": [],
   "source": [
    "def recall(y_true, y_pred):\n",
    "    \"\"\"Recall metric.\n",
    "\n",
    "    Only computes a batch-wise average of recall.\n",
    "\n",
    "    Computes the recall, a metric for multi-label classification of\n",
    "    how many relevant items are selected.\n",
    "    \"\"\"\n",
    "    true_positives = K.sum(K.round(K.clip(y_true * y_pred, 0, 1)))\n",
    "    possible_positives = K.sum(K.round(K.clip(y_true, 0, 1)))\n",
    "    recall = true_positives / (possible_positives + K.epsilon())\n",
    "    \n",
    "    return recall"
   ]
  },
  {
   "cell_type": "markdown",
   "metadata": {},
   "source": [
    "# precision"
   ]
  },
  {
   "cell_type": "code",
   "execution_count": 4,
   "metadata": {
    "ExecuteTime": {
     "end_time": "2018-07-25T12:37:14.131998Z",
     "start_time": "2018-07-25T12:37:14.124151Z"
    },
    "collapsed": true
   },
   "outputs": [],
   "source": [
    "def precision(y_true, y_pred):\n",
    "    true_positives = K.sum(K.cast(K.greater(K.clip(y_true * y_pred, 0, 1), 0.20), 'float32'))\n",
    "    pred_positives = K.sum(K.cast(K.greater(K.clip(y_pred, 0, 1), 0.20), 'float32'))\n",
    "\n",
    "    precision = true_positives / (pred_positives + K.epsilon())\n",
    "    return precision"
   ]
  },
  {
   "cell_type": "markdown",
   "metadata": {},
   "source": [
    "# F-measure function"
   ]
  },
  {
   "cell_type": "code",
   "execution_count": 5,
   "metadata": {
    "ExecuteTime": {
     "end_time": "2018-07-25T12:37:14.140192Z",
     "start_time": "2018-07-25T12:37:14.134272Z"
    },
    "collapsed": true
   },
   "outputs": [],
   "source": [
    "def f_measure(y_true, y_pred):\n",
    "    p_val = precision(y_true, y_pred)\n",
    "    r_val = recall(y_true, y_pred)\n",
    "    f_val = 2*p_val*r_val / (p_val + r_val)\n",
    "\n",
    "    return f_val"
   ]
  },
  {
   "cell_type": "markdown",
   "metadata": {},
   "source": [
    "# create model"
   ]
  },
  {
   "cell_type": "code",
   "execution_count": 6,
   "metadata": {
    "ExecuteTime": {
     "end_time": "2018-07-25T12:37:14.163815Z",
     "start_time": "2018-07-25T12:37:14.142505Z"
    },
    "collapsed": true
   },
   "outputs": [],
   "source": [
    "def create_model():\n",
    "    model = Sequential()\n",
    "    \n",
    "    model.add(LSTM(5, return_sequences=True,\n",
    "               input_shape=(380, 5)))\n",
    "    \n",
    "    model.add(LSTM(5, return_sequences=True))\n",
    "    model.add(LSTM(32))\n",
    "    \n",
    "    \n",
    "    model.add(Dense(128))\n",
    "    model.add(BatchNormalization())\n",
    "    model.add(Dense(128))\n",
    "    model.add(BatchNormalization())\n",
    "    model.add(Dense(100))\n",
    "    model.add(BatchNormalization())\n",
    "    model.add(Dense(64))\n",
    "    model.add(BatchNormalization())    \n",
    "    \n",
    "    model.add(Dense(4,\n",
    "                    activation='sigmoid'))\n",
    "\n",
    "    adam = Adam(0.001)\n",
    "    model.compile(optimizer=adam,\n",
    "                  loss='binary_crossentropy',\n",
    "                  metrics=['acc', precision, recall, f_measure])\n",
    "\n",
    "    model.summary()\n",
    "    return model"
   ]
  },
  {
   "cell_type": "markdown",
   "metadata": {},
   "source": [
    "## Load dataset and Spliting training set and validation set"
   ]
  },
  {
   "cell_type": "code",
   "execution_count": 7,
   "metadata": {
    "ExecuteTime": {
     "end_time": "2018-07-25T12:37:15.037430Z",
     "start_time": "2018-07-25T12:37:14.165975Z"
    },
    "scrolled": true
   },
   "outputs": [
    {
     "name": "stdout",
     "output_type": "stream",
     "text": [
      "_________________________________________________________________\n",
      "Layer (type)                 Output Shape              Param #   \n",
      "=================================================================\n",
      "lstm_1 (LSTM)                (None, 380, 5)            220       \n",
      "_________________________________________________________________\n",
      "lstm_2 (LSTM)                (None, 380, 5)            220       \n",
      "_________________________________________________________________\n",
      "lstm_3 (LSTM)                (None, 32)                4864      \n",
      "_________________________________________________________________\n",
      "dense_1 (Dense)              (None, 128)               4224      \n",
      "_________________________________________________________________\n",
      "batch_normalization_1 (Batch (None, 128)               512       \n",
      "_________________________________________________________________\n",
      "dense_2 (Dense)              (None, 128)               16512     \n",
      "_________________________________________________________________\n",
      "batch_normalization_2 (Batch (None, 128)               512       \n",
      "_________________________________________________________________\n",
      "dense_3 (Dense)              (None, 100)               12900     \n",
      "_________________________________________________________________\n",
      "batch_normalization_3 (Batch (None, 100)               400       \n",
      "_________________________________________________________________\n",
      "dense_4 (Dense)              (None, 64)                6464      \n",
      "_________________________________________________________________\n",
      "batch_normalization_4 (Batch (None, 64)                256       \n",
      "_________________________________________________________________\n",
      "dense_5 (Dense)              (None, 4)                 260       \n",
      "=================================================================\n",
      "Total params: 47,344\n",
      "Trainable params: 46,504\n",
      "Non-trainable params: 840\n",
      "_________________________________________________________________\n"
     ]
    }
   ],
   "source": [
    "train_size_rate = 0.9\n",
    "BATCH_SIZE = 32\n",
    "EPOCHS = 50\n",
    "\n",
    "model = create_model()\n",
    "data_list, label_list = get_data('50_30')"
   ]
  },
  {
   "cell_type": "markdown",
   "metadata": {},
   "source": [
    "# Start training model"
   ]
  },
  {
   "cell_type": "code",
   "execution_count": 9,
   "metadata": {
    "ExecuteTime": {
     "end_time": "2018-07-26T14:07:03.749853Z",
     "start_time": "2018-07-25T12:37:40.564891Z"
    },
    "scrolled": false
   },
   "outputs": [
    {
     "name": "stdout",
     "output_type": "stream",
     "text": [
      "Train on 71988 samples, validate on 7999 samples\n",
      "Epoch 1/50\n",
      "71988/71988 [==============================] - 2136s 30ms/step - loss: 0.5008 - acc: 0.7531 - precision: 0.6746 - recall: 0.8238 - f_measure: 0.7403 - val_loss: 0.6773 - val_acc: 0.6991 - val_precision: 0.6704 - val_recall: 0.9084 - val_f_measure: 0.7704\n",
      "Epoch 2/50\n",
      "71988/71988 [==============================] - 2137s 30ms/step - loss: 0.3624 - acc: 0.8319 - precision: 0.7622 - recall: 0.8942 - f_measure: 0.8218 - val_loss: 0.3096 - val_acc: 0.8623 - val_precision: 0.8054 - val_recall: 0.9264 - val_f_measure: 0.8610\n",
      "Epoch 3/50\n",
      "71988/71988 [==============================] - 2034s 28ms/step - loss: 0.3318 - acc: 0.8481 - precision: 0.7803 - recall: 0.9061 - f_measure: 0.8375 - val_loss: 0.3081 - val_acc: 0.8625 - val_precision: 0.7983 - val_recall: 0.9203 - val_f_measure: 0.8543\n",
      "Epoch 4/50\n",
      "71988/71988 [==============================] - 2130s 30ms/step - loss: 0.3007 - acc: 0.8627 - precision: 0.8032 - recall: 0.9172 - f_measure: 0.8555 - val_loss: 0.2906 - val_acc: 0.8709 - val_precision: 0.7823 - val_recall: 0.9294 - val_f_measure: 0.8489\n",
      "Epoch 5/50\n",
      "71988/71988 [==============================] - 2805s 39ms/step - loss: 0.2897 - acc: 0.8676 - precision: 0.8103 - recall: 0.9205 - f_measure: 0.8610 - val_loss: 0.3009 - val_acc: 0.8509 - val_precision: 0.8248 - val_recall: 0.8825 - val_f_measure: 0.8520\n",
      "Epoch 6/50\n",
      "71988/71988 [==============================] - 2888s 40ms/step - loss: 0.3050 - acc: 0.8611 - precision: 0.8000 - recall: 0.9158 - f_measure: 0.8530 - val_loss: 0.3913 - val_acc: 0.8167 - val_precision: 0.7792 - val_recall: 0.8490 - val_f_measure: 0.8119\n",
      "Epoch 7/50\n",
      "71988/71988 [==============================] - 2684s 37ms/step - loss: 0.3074 - acc: 0.8597 - precision: 0.7984 - recall: 0.9156 - f_measure: 0.8520 - val_loss: 0.2875 - val_acc: 0.8695 - val_precision: 0.8054 - val_recall: 0.9536 - val_f_measure: 0.8727\n",
      "Epoch 8/50\n",
      "71988/71988 [==============================] - 2552s 35ms/step - loss: 0.4278 - acc: 0.7951 - precision: 0.7230 - recall: 0.8717 - f_measure: 0.7890 - val_loss: 0.3380 - val_acc: 0.8430 - val_precision: 0.7515 - val_recall: 0.9306 - val_f_measure: 0.8307\n",
      "Epoch 9/50\n",
      "71988/71988 [==============================] - 1840s 26ms/step - loss: 0.3744 - acc: 0.8282 - precision: 0.7543 - recall: 0.8932 - f_measure: 0.8167 - val_loss: 0.3535 - val_acc: 0.8342 - val_precision: 0.7626 - val_recall: 0.8797 - val_f_measure: 0.8161\n",
      "Epoch 10/50\n",
      "71988/71988 [==============================] - 1724s 24ms/step - loss: 0.3308 - acc: 0.8512 - precision: 0.7812 - recall: 0.9051 - f_measure: 0.8376 - val_loss: 0.3304 - val_acc: 0.8515 - val_precision: 0.7860 - val_recall: 0.9332 - val_f_measure: 0.8527\n",
      "Epoch 11/50\n",
      "71988/71988 [==============================] - 1727s 24ms/step - loss: 0.3049 - acc: 0.8630 - precision: 0.7979 - recall: 0.9142 - f_measure: 0.8511 - val_loss: 0.3070 - val_acc: 0.8570 - val_precision: 0.8249 - val_recall: 0.8696 - val_f_measure: 0.8458\n",
      "Epoch 12/50\n",
      "71988/71988 [==============================] - 1724s 24ms/step - loss: 0.3268 - acc: 0.8523 - precision: 0.7852 - recall: 0.9066 - f_measure: 0.8404 - val_loss: 0.3028 - val_acc: 0.8581 - val_precision: 0.7687 - val_recall: 0.9280 - val_f_measure: 0.8401\n",
      "Epoch 13/50\n",
      "71988/71988 [==============================] - 1718s 24ms/step - loss: 0.2947 - acc: 0.8673 - precision: 0.8060 - recall: 0.9200 - f_measure: 0.8583 - val_loss: 0.2787 - val_acc: 0.8758 - val_precision: 0.7889 - val_recall: 0.9429 - val_f_measure: 0.8584\n",
      "Epoch 14/50\n",
      "71988/71988 [==============================] - 1722s 24ms/step - loss: 0.2803 - acc: 0.8723 - precision: 0.8146 - recall: 0.9238 - f_measure: 0.8649 - val_loss: 0.4272 - val_acc: 0.7964 - val_precision: 0.8367 - val_recall: 0.7849 - val_f_measure: 0.8092\n",
      "Epoch 15/50\n",
      "71988/71988 [==============================] - 1714s 24ms/step - loss: 0.2734 - acc: 0.8752 - precision: 0.8194 - recall: 0.9266 - f_measure: 0.8689 - val_loss: 0.3066 - val_acc: 0.8624 - val_precision: 0.7766 - val_recall: 0.9579 - val_f_measure: 0.8572\n",
      "Epoch 16/50\n",
      "71988/71988 [==============================] - 1721s 24ms/step - loss: 0.2679 - acc: 0.8783 - precision: 0.8227 - recall: 0.9302 - f_measure: 0.8724 - val_loss: 0.2527 - val_acc: 0.8788 - val_precision: 0.8268 - val_recall: 0.9145 - val_f_measure: 0.8678\n",
      "Epoch 17/50\n",
      "71988/71988 [==============================] - 1717s 24ms/step - loss: 0.2638 - acc: 0.8787 - precision: 0.8252 - recall: 0.9305 - f_measure: 0.8739 - val_loss: 0.4237 - val_acc: 0.8094 - val_precision: 0.8350 - val_recall: 0.7964 - val_f_measure: 0.8144\n",
      "Epoch 18/50\n",
      "71988/71988 [==============================] - 1721s 24ms/step - loss: 0.2603 - acc: 0.8800 - precision: 0.8274 - recall: 0.9318 - f_measure: 0.8758 - val_loss: 0.2548 - val_acc: 0.8746 - val_precision: 0.8164 - val_recall: 0.8915 - val_f_measure: 0.8517\n",
      "Epoch 19/50\n",
      "71988/71988 [==============================] - 1725s 24ms/step - loss: 0.2564 - acc: 0.8816 - precision: 0.8286 - recall: 0.9326 - f_measure: 0.8768 - val_loss: 0.2548 - val_acc: 0.8855 - val_precision: 0.8122 - val_recall: 0.9686 - val_f_measure: 0.8831\n",
      "Epoch 20/50\n",
      "71988/71988 [==============================] - 1721s 24ms/step - loss: 0.2609 - acc: 0.8798 - precision: 0.8274 - recall: 0.9318 - f_measure: 0.8758 - val_loss: 0.2360 - val_acc: 0.8877 - val_precision: 0.8289 - val_recall: 0.9446 - val_f_measure: 0.8825\n",
      "Epoch 21/50\n",
      "71988/71988 [==============================] - 1717s 24ms/step - loss: 0.2531 - acc: 0.8825 - precision: 0.8319 - recall: 0.9345 - f_measure: 0.8795 - val_loss: 0.3792 - val_acc: 0.8211 - val_precision: 0.7759 - val_recall: 0.8970 - val_f_measure: 0.8314\n",
      "Epoch 22/50\n",
      "71988/71988 [==============================] - 1724s 24ms/step - loss: 0.2504 - acc: 0.8843 - precision: 0.8335 - recall: 0.9356 - f_measure: 0.8809 - val_loss: 0.2814 - val_acc: 0.8569 - val_precision: 0.8215 - val_recall: 0.8625 - val_f_measure: 0.8410\n",
      "Epoch 23/50\n",
      "71988/71988 [==============================] - 1718s 24ms/step - loss: 0.2482 - acc: 0.8857 - precision: 0.8340 - recall: 0.9364 - f_measure: 0.8815 - val_loss: 0.2351 - val_acc: 0.8888 - val_precision: 0.8472 - val_recall: 0.9278 - val_f_measure: 0.8852\n",
      "Epoch 24/50\n",
      "71988/71988 [==============================] - 1720s 24ms/step - loss: 0.2461 - acc: 0.8858 - precision: 0.8358 - recall: 0.9359 - f_measure: 0.8823 - val_loss: 0.2519 - val_acc: 0.8823 - val_precision: 0.8072 - val_recall: 0.9472 - val_f_measure: 0.8711\n",
      "Epoch 25/50\n",
      "71988/71988 [==============================] - 1723s 24ms/step - loss: 0.2451 - acc: 0.8856 - precision: 0.8362 - recall: 0.9360 - f_measure: 0.8826 - val_loss: 0.5185 - val_acc: 0.7661 - val_precision: 0.7107 - val_recall: 0.8947 - val_f_measure: 0.7916\n",
      "Epoch 26/50\n",
      "71988/71988 [==============================] - 1719s 24ms/step - loss: 0.2474 - acc: 0.8858 - precision: 0.8355 - recall: 0.9361 - f_measure: 0.8823 - val_loss: 0.2369 - val_acc: 0.8892 - val_precision: 0.8573 - val_recall: 0.9232 - val_f_measure: 0.8885\n",
      "Epoch 27/50\n",
      "71988/71988 [==============================] - 1720s 24ms/step - loss: 0.2415 - acc: 0.8878 - precision: 0.8390 - recall: 0.9376 - f_measure: 0.8849 - val_loss: 0.2460 - val_acc: 0.8872 - val_precision: 0.8321 - val_recall: 0.9569 - val_f_measure: 0.8897\n",
      "Epoch 28/50\n",
      "71988/71988 [==============================] - 1720s 24ms/step - loss: 0.2413 - acc: 0.8883 - precision: 0.8395 - recall: 0.9376 - f_measure: 0.8852 - val_loss: 0.2477 - val_acc: 0.8805 - val_precision: 0.8590 - val_recall: 0.8895 - val_f_measure: 0.8735\n",
      "Epoch 29/50\n",
      "71988/71988 [==============================] - 1722s 24ms/step - loss: 0.2411 - acc: 0.8887 - precision: 0.8401 - recall: 0.9380 - f_measure: 0.8857 - val_loss: 0.2335 - val_acc: 0.8876 - val_precision: 0.8354 - val_recall: 0.9146 - val_f_measure: 0.8726\n",
      "Epoch 30/50\n",
      "71988/71988 [==============================] - 1731s 24ms/step - loss: 0.2395 - acc: 0.8887 - precision: 0.8408 - recall: 0.9380 - f_measure: 0.8861 - val_loss: 0.2249 - val_acc: 0.8930 - val_precision: 0.8527 - val_recall: 0.9352 - val_f_measure: 0.8916\n",
      "Epoch 31/50\n",
      "71988/71988 [==============================] - 1723s 24ms/step - loss: 0.2390 - acc: 0.8886 - precision: 0.8413 - recall: 0.9381 - f_measure: 0.8865 - val_loss: 0.3808 - val_acc: 0.8184 - val_precision: 0.7536 - val_recall: 0.9291 - val_f_measure: 0.8317\n",
      "Epoch 32/50\n",
      "71988/71988 [==============================] - 1724s 24ms/step - loss: 0.2356 - acc: 0.8912 - precision: 0.8431 - recall: 0.9401 - f_measure: 0.8884 - val_loss: 0.3488 - val_acc: 0.8437 - val_precision: 0.7685 - val_recall: 0.9508 - val_f_measure: 0.8496\n",
      "Epoch 33/50\n",
      "71988/71988 [==============================] - 1723s 24ms/step - loss: 0.2404 - acc: 0.8884 - precision: 0.8410 - recall: 0.9379 - f_measure: 0.8861 - val_loss: 0.3138 - val_acc: 0.8567 - val_precision: 0.7570 - val_recall: 0.9516 - val_f_measure: 0.8427\n",
      "Epoch 34/50\n",
      "71988/71988 [==============================] - 1722s 24ms/step - loss: 0.2324 - acc: 0.8920 - precision: 0.8447 - recall: 0.9398 - f_measure: 0.8891 - val_loss: 0.2425 - val_acc: 0.8830 - val_precision: 0.8482 - val_recall: 0.8994 - val_f_measure: 0.8725\n",
      "Epoch 35/50\n",
      "71988/71988 [==============================] - 1719s 24ms/step - loss: 0.4559 - acc: 0.7841 - precision: 0.7044 - recall: 0.8595 - f_measure: 0.7727 - val_loss: 0.4369 - val_acc: 0.7987 - val_precision: 0.6955 - val_recall: 0.9005 - val_f_measure: 0.7840\n",
      "Epoch 36/50\n",
      "71988/71988 [==============================] - 1719s 24ms/step - loss: 0.3740 - acc: 0.8274 - precision: 0.7518 - recall: 0.8874 - f_measure: 0.8128 - val_loss: 0.3274 - val_acc: 0.8541 - val_precision: 0.7663 - val_recall: 0.8957 - val_f_measure: 0.8252\n",
      "Epoch 37/50\n",
      "71988/71988 [==============================] - 1723s 24ms/step - loss: 0.3089 - acc: 0.8589 - precision: 0.7952 - recall: 0.9100 - f_measure: 0.8478 - val_loss: 0.3354 - val_acc: 0.8287 - val_precision: 0.7701 - val_recall: 0.8447 - val_f_measure: 0.8049\n",
      "Epoch 38/50\n",
      "71988/71988 [==============================] - 1723s 24ms/step - loss: 0.2852 - acc: 0.8702 - precision: 0.8123 - recall: 0.9227 - f_measure: 0.8632 - val_loss: 0.2790 - val_acc: 0.8728 - val_precision: 0.8216 - val_recall: 0.8984 - val_f_measure: 0.8577\n",
      "Epoch 39/50\n",
      "71988/71988 [==============================] - 1724s 24ms/step - loss: 0.2736 - acc: 0.8750 - precision: 0.8194 - recall: 0.9269 - f_measure: 0.8690 - val_loss: 0.2793 - val_acc: 0.8685 - val_precision: 0.8018 - val_recall: 0.8998 - val_f_measure: 0.8473\n",
      "Epoch 40/50\n",
      "71988/71988 [==============================] - 1725s 24ms/step - loss: 0.2661 - acc: 0.8779 - precision: 0.8245 - recall: 0.9285 - f_measure: 0.8726 - val_loss: 0.2861 - val_acc: 0.8653 - val_precision: 0.7964 - val_recall: 0.8971 - val_f_measure: 0.8430\n",
      "Epoch 41/50\n",
      "71988/71988 [==============================] - 1728s 24ms/step - loss: 0.2609 - acc: 0.8802 - precision: 0.8280 - recall: 0.9306 - f_measure: 0.8756 - val_loss: 0.2773 - val_acc: 0.8660 - val_precision: 0.8088 - val_recall: 0.9023 - val_f_measure: 0.8524\n",
      "Epoch 42/50\n",
      "71988/71988 [==============================] - 1724s 24ms/step - loss: 0.2557 - acc: 0.8825 - precision: 0.8303 - recall: 0.9322 - f_measure: 0.8775 - val_loss: 0.2820 - val_acc: 0.8661 - val_precision: 0.8034 - val_recall: 0.9048 - val_f_measure: 0.8504\n",
      "Epoch 43/50\n",
      "71988/71988 [==============================] - 1723s 24ms/step - loss: 0.2501 - acc: 0.8847 - precision: 0.8346 - recall: 0.9331 - f_measure: 0.8805 - val_loss: 0.2548 - val_acc: 0.8786 - val_precision: 0.8215 - val_recall: 0.9097 - val_f_measure: 0.8627\n",
      "Epoch 44/50\n",
      "71988/71988 [==============================] - 1723s 24ms/step - loss: 0.2462 - acc: 0.8863 - precision: 0.8364 - recall: 0.9341 - f_measure: 0.8819 - val_loss: 0.2627 - val_acc: 0.8760 - val_precision: 0.8233 - val_recall: 0.9013 - val_f_measure: 0.8599\n",
      "Epoch 45/50\n",
      "71988/71988 [==============================] - 1724s 24ms/step - loss: 0.2440 - acc: 0.8874 - precision: 0.8384 - recall: 0.9348 - f_measure: 0.8833 - val_loss: 0.2655 - val_acc: 0.8742 - val_precision: 0.8197 - val_recall: 0.9149 - val_f_measure: 0.8640\n",
      "Epoch 46/50\n",
      "71988/71988 [==============================] - 1719s 24ms/step - loss: 0.2420 - acc: 0.8880 - precision: 0.8392 - recall: 0.9352 - f_measure: 0.8839 - val_loss: 0.2843 - val_acc: 0.8712 - val_precision: 0.7955 - val_recall: 0.9109 - val_f_measure: 0.8485\n",
      "Epoch 47/50\n",
      "71988/71988 [==============================] - 1720s 24ms/step - loss: 0.2387 - acc: 0.8889 - precision: 0.8412 - recall: 0.9363 - f_measure: 0.8856 - val_loss: 0.2523 - val_acc: 0.8828 - val_precision: 0.8229 - val_recall: 0.9289 - val_f_measure: 0.8721\n",
      "Epoch 48/50\n",
      "71988/71988 [==============================] - 1719s 24ms/step - loss: 0.2390 - acc: 0.8893 - precision: 0.8411 - recall: 0.9367 - f_measure: 0.8857 - val_loss: 0.2567 - val_acc: 0.8774 - val_precision: 0.8127 - val_recall: 0.9110 - val_f_measure: 0.8584\n",
      "Epoch 49/50\n",
      "71988/71988 [==============================] - 1720s 24ms/step - loss: 0.2347 - acc: 0.8907 - precision: 0.8445 - recall: 0.9384 - f_measure: 0.8883 - val_loss: 0.2443 - val_acc: 0.8826 - val_precision: 0.8311 - val_recall: 0.9128 - val_f_measure: 0.8694\n",
      "Epoch 50/50\n",
      "71988/71988 [==============================] - 1685s 23ms/step - loss: 0.2336 - acc: 0.8917 - precision: 0.8451 - recall: 0.9395 - f_measure: 0.8892 - val_loss: 0.2514 - val_acc: 0.8798 - val_precision: 0.8048 - val_recall: 0.9031 - val_f_measure: 0.8504\n"
     ]
    },
    {
     "data": {
      "text/plain": [
       "<keras.callbacks.History at 0x7f257c3677f0>"
      ]
     },
     "execution_count": 9,
     "metadata": {},
     "output_type": "execute_result"
    }
   ],
   "source": [
    "train_data, test_data, train_label, test_label = train_test_split(data_list, label_list, train_size=train_size_rate)\n",
    "model.fit(train_data, train_label,\n",
    "                    batch_size=BATCH_SIZE,\n",
    "                    epochs=EPOCHS,\n",
    "                    validation_data=(test_data, test_label),\n",
    "                    shuffle=True)"
   ]
  },
  {
   "cell_type": "markdown",
   "metadata": {},
   "source": [
    "# Test testing model"
   ]
  },
  {
   "cell_type": "code",
   "execution_count": null,
   "metadata": {
    "collapsed": true
   },
   "outputs": [],
   "source": [
    "test_data_list, test_label_list = get_data('50_30_test')\n",
    "model.evaluate(test_data_list, test_label_list, batch_size=32, verbose=1, sample_weight=None)"
   ]
  },
  {
   "cell_type": "markdown",
   "metadata": {},
   "source": [
    "# Draw ROC"
   ]
  },
  {
   "cell_type": "code",
   "execution_count": 10,
   "metadata": {
    "ExecuteTime": {
     "end_time": "2018-07-26T14:07:03.761982Z",
     "start_time": "2018-07-26T14:07:03.751867Z"
    },
    "collapsed": true
   },
   "outputs": [],
   "source": [
    "import matplotlib\n",
    "\n",
    "def plot_filters(layer, x, y):\n",
    "    filters = model.layers[layer].get_weights()[0][:,:,:,:]\n",
    "    fig = plt.figure()\n",
    "    for j in range(len(filters)):\n",
    "        ax = fig.add_subplot(y, x, j+1)\n",
    "        ax.matshow(filters[j][0], cmap = matplotlib.cm.binary)\n",
    "        plt.xticks(np.arrary([]))\n",
    "        plt.yticks(np.arrary([]))\n",
    "    plt.tight_layout()\n",
    "    return plt"
   ]
  },
  {
   "cell_type": "code",
   "execution_count": 11,
   "metadata": {
    "ExecuteTime": {
     "end_time": "2018-07-26T14:07:30.207683Z",
     "start_time": "2018-07-26T14:07:03.765739Z"
    },
    "collapsed": true
   },
   "outputs": [],
   "source": [
    "from sklearn.metrics import roc_curve\n",
    "y_pred = model.predict_proba(test_data).ravel()\n",
    "fpr_keras, tpr_keras, thresholds_keras = roc_curve(test_label.ravel(), y_pred)"
   ]
  },
  {
   "cell_type": "code",
   "execution_count": 12,
   "metadata": {
    "ExecuteTime": {
     "end_time": "2018-07-26T14:07:30.217839Z",
     "start_time": "2018-07-26T14:07:30.212735Z"
    },
    "collapsed": true
   },
   "outputs": [],
   "source": [
    "from sklearn.metrics import auc\n",
    "auc_keras = auc(fpr_keras, tpr_keras)"
   ]
  },
  {
   "cell_type": "code",
   "execution_count": 13,
   "metadata": {
    "ExecuteTime": {
     "end_time": "2018-07-26T14:07:30.721975Z",
     "start_time": "2018-07-26T14:07:30.223917Z"
    }
   },
   "outputs": [
    {
     "data": {
      "image/png": "[encoded data removed]",
      "text/plain": [
       "<matplotlib.figure.Figure at 0x7f252c22d2b0>"
      ]
     },
     "metadata": {},
     "output_type": "display_data"
    }
   ],
   "source": [
    "import matplotlib.pyplot as plt \n",
    "plt.figure(figsize=(8,8))\n",
    "plt.plot([0, 1], [0, 1], 'k--')\n",
    "plt.plot(fpr_keras, tpr_keras, label='Area = {:.3f}'.format(auc_keras))\n",
    "plt.xlabel('False positive rate')\n",
    "plt.ylabel('True positive rate')\n",
    "plt.title('ROC curve')\n",
    "plt.legend(loc='best')\n",
    "plt.show()"
   ]
  },
  {
   "cell_type": "code",
   "execution_count": 1,
   "metadata": {
    "ExecuteTime": {
     "end_time": "2018-12-25T01:08:06.192992Z",
     "start_time": "2018-12-25T01:08:06.169068Z"
    }
   },
   "outputs": [
    {
     "data": {
      "text/plain": [
       "'/home/letitgo/jacky/lab12'"
      ]
     },
     "execution_count": 1,
     "metadata": {},
     "output_type": "execute_result"
    }
   ],
   "source": [
    "pwd"
   ]
  },
  {
   "cell_type": "code",
   "execution_count": null,
   "metadata": {
    "collapsed": true
   },
   "outputs": [],
   "source": []
  }
 ],
 "metadata": {
  "kernelspec": {
   "display_name": "Python 3",
   "language": "python",
   "name": "python3"
  },
  "language_info": {
   "codemirror_mode": {
    "name": "ipython",
    "version": 3
   },
   "file_extension": ".py",
   "mimetype": "text/x-python",
   "name": "python",
   "nbconvert_exporter": "python",
   "pygments_lexer": "ipython3",
   "version": "3.6.1"
  }
 },
 "nbformat": 4,
 "nbformat_minor": 2
}
