{
 "cells": [
  {
   "cell_type": "markdown",
   "metadata": {},
   "source": [
    "# Input function"
   ]
  },
  {
   "cell_type": "code",
   "execution_count": 5,
   "metadata": {
    "ExecuteTime": {
     "end_time": "2018-08-01T03:32:02.250991Z",
     "start_time": "2018-08-01T03:32:01.659521Z"
    },
    "collapsed": true
   },
   "outputs": [],
   "source": [
    "import re\n",
    "import pandas as pd\n",
    "import time\n",
    "import datetime\n",
    "import math\n",
    "from __future__ import division\n",
    "import numpy as np\n",
    "import pickle\n",
    "import itertools\n",
    "import ipaddress"
   ]
  },
  {
   "cell_type": "markdown",
   "metadata": {},
   "source": [
    "# load snort log"
   ]
  },
  {
   "cell_type": "code",
   "execution_count": 6,
   "metadata": {
    "ExecuteTime": {
     "end_time": "2018-08-01T03:32:06.100397Z",
     "start_time": "2018-08-01T03:32:04.155579Z"
    }
   },
   "outputs": [
    {
     "data": {
      "text/html": [
       "<div>\n",
       "<style>\n",
       "    .dataframe thead tr:only-child th {\n",
       "        text-align: right;\n",
       "    }\n",
       "\n",
       "    .dataframe thead th {\n",
       "        text-align: left;\n",
       "    }\n",
       "\n",
       "    .dataframe tbody tr th {\n",
       "        vertical-align: top;\n",
       "    }\n",
       "</style>\n",
       "<table border=\"1\" class=\"dataframe\">\n",
       "  <thead>\n",
       "    <tr style=\"text-align: right;\">\n",
       "      <th></th>\n",
       "      <th>time</th>\n",
       "      <th>behavior</th>\n",
       "      <th>sour_ip</th>\n",
       "      <th>dest_ip</th>\n",
       "    </tr>\n",
       "  </thead>\n",
       "  <tbody>\n",
       "    <tr>\n",
       "      <th>0</th>\n",
       "      <td>1.331901e+09</td>\n",
       "      <td>Web Application Attack</td>\n",
       "      <td>192.168.202.79:50465</td>\n",
       "      <td>192.168.229.251:80</td>\n",
       "    </tr>\n",
       "    <tr>\n",
       "      <th>1</th>\n",
       "      <td>1.331901e+09</td>\n",
       "      <td>Web Application Attack</td>\n",
       "      <td>192.168.202.79:50467</td>\n",
       "      <td>192.168.229.251:80</td>\n",
       "    </tr>\n",
       "    <tr>\n",
       "      <th>2</th>\n",
       "      <td>1.331901e+09</td>\n",
       "      <td>Web Application Attack</td>\n",
       "      <td>192.168.202.79:50469</td>\n",
       "      <td>192.168.229.251:80</td>\n",
       "    </tr>\n",
       "    <tr>\n",
       "      <th>3</th>\n",
       "      <td>1.331901e+09</td>\n",
       "      <td>Web Application Attack</td>\n",
       "      <td>192.168.202.79:50471</td>\n",
       "      <td>192.168.229.251:80</td>\n",
       "    </tr>\n",
       "    <tr>\n",
       "      <th>4</th>\n",
       "      <td>1.331901e+09</td>\n",
       "      <td>Unsuccessful User Privilege Gain</td>\n",
       "      <td>192.168.229.153:445</td>\n",
       "      <td>192.168.202.79:55173</td>\n",
       "    </tr>\n",
       "  </tbody>\n",
       "</table>\n",
       "</div>"
      ],
      "text/plain": [
       "           time                          behavior               sour_ip  \\\n",
       "0  1.331901e+09            Web Application Attack  192.168.202.79:50465   \n",
       "1  1.331901e+09            Web Application Attack  192.168.202.79:50467   \n",
       "2  1.331901e+09            Web Application Attack  192.168.202.79:50469   \n",
       "3  1.331901e+09            Web Application Attack  192.168.202.79:50471   \n",
       "4  1.331901e+09  Unsuccessful User Privilege Gain   192.168.229.153:445   \n",
       "\n",
       "                dest_ip  \n",
       "0    192.168.229.251:80  \n",
       "1    192.168.229.251:80  \n",
       "2    192.168.229.251:80  \n",
       "3    192.168.229.251:80  \n",
       "4  192.168.202.79:55173  "
      ]
     },
     "execution_count": 6,
     "metadata": {},
     "output_type": "execute_result"
    }
   ],
   "source": [
    "snort_df = pd.read_pickle('snort_alert_df.pkl')\n",
    "snort_df.head()"
   ]
  },
  {
   "cell_type": "markdown",
   "metadata": {
    "ExecuteTime": {
     "end_time": "2018-07-30T05:12:51.188969Z",
     "start_time": "2018-07-30T05:12:51.182748Z"
    }
   },
   "source": [
    "# load Bro-IDS connection log"
   ]
  },
  {
   "cell_type": "code",
   "execution_count": 7,
   "metadata": {
    "ExecuteTime": {
     "end_time": "2018-08-01T03:32:22.624977Z",
     "start_time": "2018-08-01T03:32:07.138332Z"
    }
   },
   "outputs": [
    {
     "data": {
      "text/html": [
       "<div>\n",
       "<style>\n",
       "    .dataframe thead tr:only-child th {\n",
       "        text-align: right;\n",
       "    }\n",
       "\n",
       "    .dataframe thead th {\n",
       "        text-align: left;\n",
       "    }\n",
       "\n",
       "    .dataframe tbody tr th {\n",
       "        vertical-align: top;\n",
       "    }\n",
       "</style>\n",
       "<table border=\"1\" class=\"dataframe\">\n",
       "  <thead>\n",
       "    <tr style=\"text-align: right;\">\n",
       "      <th></th>\n",
       "      <th>ts</th>\n",
       "      <th>uid</th>\n",
       "      <th>id.orig_h</th>\n",
       "      <th>id.orig_p</th>\n",
       "      <th>id.resp_h</th>\n",
       "      <th>id.resp_p</th>\n",
       "      <th>proto</th>\n",
       "      <th>service</th>\n",
       "      <th>duration</th>\n",
       "      <th>orig_bytes</th>\n",
       "      <th>...</th>\n",
       "      <th>local_orig</th>\n",
       "      <th>missed_bytes</th>\n",
       "      <th>history</th>\n",
       "      <th>orig_pkts</th>\n",
       "      <th>orig_ip_bytes</th>\n",
       "      <th>resp_pkts</th>\n",
       "      <th>resp_ip_bytes</th>\n",
       "      <th>tunnel_parents</th>\n",
       "      <th>threat</th>\n",
       "      <th>sample</th>\n",
       "    </tr>\n",
       "  </thead>\n",
       "  <tbody>\n",
       "    <tr>\n",
       "      <th>0</th>\n",
       "      <td>1.331901e+09</td>\n",
       "      <td>CCUIP21wTjqkj8ZqX5</td>\n",
       "      <td>192.168.202.79</td>\n",
       "      <td>50463</td>\n",
       "      <td>192.168.229.251</td>\n",
       "      <td>80</td>\n",
       "      <td>tcp</td>\n",
       "      <td>-</td>\n",
       "      <td>-</td>\n",
       "      <td>-</td>\n",
       "      <td>...</td>\n",
       "      <td>-</td>\n",
       "      <td>0</td>\n",
       "      <td>Fa</td>\n",
       "      <td>1</td>\n",
       "      <td>52</td>\n",
       "      <td>1</td>\n",
       "      <td>52</td>\n",
       "      <td>(empty)</td>\n",
       "      <td>NaN</td>\n",
       "      <td>NaN</td>\n",
       "    </tr>\n",
       "    <tr>\n",
       "      <th>1</th>\n",
       "      <td>1.331901e+09</td>\n",
       "      <td>Csssjd3tX0yOTPDpng</td>\n",
       "      <td>192.168.202.79</td>\n",
       "      <td>46117</td>\n",
       "      <td>192.168.229.254</td>\n",
       "      <td>443</td>\n",
       "      <td>tcp</td>\n",
       "      <td>-</td>\n",
       "      <td>-</td>\n",
       "      <td>-</td>\n",
       "      <td>...</td>\n",
       "      <td>-</td>\n",
       "      <td>0</td>\n",
       "      <td>dDafFr</td>\n",
       "      <td>3</td>\n",
       "      <td>382</td>\n",
       "      <td>9</td>\n",
       "      <td>994</td>\n",
       "      <td>(empty)</td>\n",
       "      <td>NaN</td>\n",
       "      <td>NaN</td>\n",
       "    </tr>\n",
       "    <tr>\n",
       "      <th>2</th>\n",
       "      <td>1.331901e+09</td>\n",
       "      <td>CHEt7z3AzG4gyCNgci</td>\n",
       "      <td>192.168.202.79</td>\n",
       "      <td>50465</td>\n",
       "      <td>192.168.229.251</td>\n",
       "      <td>80</td>\n",
       "      <td>tcp</td>\n",
       "      <td>http</td>\n",
       "      <td>0.010000</td>\n",
       "      <td>166</td>\n",
       "      <td>...</td>\n",
       "      <td>-</td>\n",
       "      <td>0</td>\n",
       "      <td>ShADfFa</td>\n",
       "      <td>4</td>\n",
       "      <td>382</td>\n",
       "      <td>3</td>\n",
       "      <td>382</td>\n",
       "      <td>(empty)</td>\n",
       "      <td>NaN</td>\n",
       "      <td>NaN</td>\n",
       "    </tr>\n",
       "    <tr>\n",
       "      <th>3</th>\n",
       "      <td>1.331901e+09</td>\n",
       "      <td>CKnDAp2ohlvN6rpiXl</td>\n",
       "      <td>192.168.202.79</td>\n",
       "      <td>50467</td>\n",
       "      <td>192.168.229.251</td>\n",
       "      <td>80</td>\n",
       "      <td>tcp</td>\n",
       "      <td>http</td>\n",
       "      <td>0.010000</td>\n",
       "      <td>166</td>\n",
       "      <td>...</td>\n",
       "      <td>-</td>\n",
       "      <td>0</td>\n",
       "      <td>ShADfFa</td>\n",
       "      <td>4</td>\n",
       "      <td>382</td>\n",
       "      <td>3</td>\n",
       "      <td>382</td>\n",
       "      <td>(empty)</td>\n",
       "      <td>NaN</td>\n",
       "      <td>NaN</td>\n",
       "    </tr>\n",
       "    <tr>\n",
       "      <th>4</th>\n",
       "      <td>1.331901e+09</td>\n",
       "      <td>CGUBcoXKxBE8gTNl</td>\n",
       "      <td>192.168.202.79</td>\n",
       "      <td>46119</td>\n",
       "      <td>192.168.229.254</td>\n",
       "      <td>443</td>\n",
       "      <td>tcp</td>\n",
       "      <td>ssl</td>\n",
       "      <td>0.020000</td>\n",
       "      <td>544</td>\n",
       "      <td>...</td>\n",
       "      <td>-</td>\n",
       "      <td>0</td>\n",
       "      <td>ShADadfFr</td>\n",
       "      <td>8</td>\n",
       "      <td>968</td>\n",
       "      <td>13</td>\n",
       "      <td>1744</td>\n",
       "      <td>(empty)</td>\n",
       "      <td>NaN</td>\n",
       "      <td>NaN</td>\n",
       "    </tr>\n",
       "  </tbody>\n",
       "</table>\n",
       "<p>5 rows × 22 columns</p>\n",
       "</div>"
      ],
      "text/plain": [
       "             ts                 uid       id.orig_h  id.orig_p  \\\n",
       "0  1.331901e+09  CCUIP21wTjqkj8ZqX5  192.168.202.79      50463   \n",
       "1  1.331901e+09  Csssjd3tX0yOTPDpng  192.168.202.79      46117   \n",
       "2  1.331901e+09  CHEt7z3AzG4gyCNgci  192.168.202.79      50465   \n",
       "3  1.331901e+09  CKnDAp2ohlvN6rpiXl  192.168.202.79      50467   \n",
       "4  1.331901e+09    CGUBcoXKxBE8gTNl  192.168.202.79      46119   \n",
       "\n",
       "         id.resp_h  id.resp_p proto service  duration orig_bytes  ...    \\\n",
       "0  192.168.229.251         80   tcp       -         -          -  ...     \n",
       "1  192.168.229.254        443   tcp       -         -          -  ...     \n",
       "2  192.168.229.251         80   tcp    http  0.010000        166  ...     \n",
       "3  192.168.229.251         80   tcp    http  0.010000        166  ...     \n",
       "4  192.168.229.254        443   tcp     ssl  0.020000        544  ...     \n",
       "\n",
       "  local_orig missed_bytes    history  orig_pkts orig_ip_bytes  resp_pkts  \\\n",
       "0          -            0         Fa          1            52          1   \n",
       "1          -            0     dDafFr          3           382          9   \n",
       "2          -            0    ShADfFa          4           382          3   \n",
       "3          -            0    ShADfFa          4           382          3   \n",
       "4          -            0  ShADadfFr          8           968         13   \n",
       "\n",
       "   resp_ip_bytes  tunnel_parents  threat sample  \n",
       "0             52         (empty)     NaN    NaN  \n",
       "1            994         (empty)     NaN    NaN  \n",
       "2            382         (empty)     NaN    NaN  \n",
       "3            382         (empty)     NaN    NaN  \n",
       "4           1744         (empty)     NaN    NaN  \n",
       "\n",
       "[5 rows x 22 columns]"
      ]
     },
     "execution_count": 7,
     "metadata": {},
     "output_type": "execute_result"
    }
   ],
   "source": [
    "conn_df = pd.read_pickle('bro_conn_df.pkl')\n",
    "conn_df.head()"
   ]
  },
  {
   "cell_type": "markdown",
   "metadata": {},
   "source": [
    "# Choose which attacks you want"
   ]
  },
  {
   "cell_type": "code",
   "execution_count": 8,
   "metadata": {
    "ExecuteTime": {
     "end_time": "2018-08-01T03:32:23.202672Z",
     "start_time": "2018-08-01T03:32:22.628139Z"
    }
   },
   "outputs": [
    {
     "data": {
      "text/plain": [
       "Potential Corporate Privacy Violation    148862\n",
       "Generic Protocol Command Decode           28040\n",
       "Detection of a Network Scan                1814\n",
       "Attempted Denial of Service                 469\n",
       "Name: behavior, dtype: int64"
      ]
     },
     "execution_count": 8,
     "metadata": {},
     "output_type": "execute_result"
    }
   ],
   "source": [
    "target_behavior_list = ['Potential Corporate Privacy Violation',\n",
    "                        'Generic Protocol Command Decode',\n",
    "                        'Detection of a Network Scan',\n",
    "                        'Attempted Denial of Service']\n",
    "\n",
    "filter_snort_df = snort_df[snort_df['behavior'].isin(target_behavior_list)]\n",
    "filter_snort_df['behavior'].value_counts()"
   ]
  },
  {
   "cell_type": "markdown",
   "metadata": {
    "ExecuteTime": {
     "end_time": "2018-07-30T05:14:56.388370Z",
     "start_time": "2018-07-30T05:14:56.384566Z"
    }
   },
   "source": [
    "# Snort IP data preprocessing"
   ]
  },
  {
   "cell_type": "code",
   "execution_count": 9,
   "metadata": {
    "ExecuteTime": {
     "end_time": "2018-08-01T03:32:29.576983Z",
     "start_time": "2018-08-01T03:32:23.205224Z"
    }
   },
   "outputs": [
    {
     "name": "stderr",
     "output_type": "stream",
     "text": [
      "/home/letitgo/anaconda3/lib/python3.6/site-packages/ipykernel_launcher.py:8: SettingWithCopyWarning: \n",
      "A value is trying to be set on a copy of a slice from a DataFrame.\n",
      "Try using .loc[row_indexer,col_indexer] = value instead\n",
      "\n",
      "See the caveats in the documentation: http://pandas.pydata.org/pandas-docs/stable/indexing.html#indexing-view-versus-copy\n",
      "  \n",
      "/home/letitgo/anaconda3/lib/python3.6/site-packages/ipykernel_launcher.py:9: SettingWithCopyWarning: \n",
      "A value is trying to be set on a copy of a slice from a DataFrame.\n",
      "Try using .loc[row_indexer,col_indexer] = value instead\n",
      "\n",
      "See the caveats in the documentation: http://pandas.pydata.org/pandas-docs/stable/indexing.html#indexing-view-versus-copy\n",
      "  if __name__ == '__main__':\n"
     ]
    },
    {
     "data": {
      "text/html": [
       "<div>\n",
       "<style>\n",
       "    .dataframe thead tr:only-child th {\n",
       "        text-align: right;\n",
       "    }\n",
       "\n",
       "    .dataframe thead th {\n",
       "        text-align: left;\n",
       "    }\n",
       "\n",
       "    .dataframe tbody tr th {\n",
       "        vertical-align: top;\n",
       "    }\n",
       "</style>\n",
       "<table border=\"1\" class=\"dataframe\">\n",
       "  <thead>\n",
       "    <tr style=\"text-align: right;\">\n",
       "      <th></th>\n",
       "      <th>time</th>\n",
       "      <th>behavior</th>\n",
       "      <th>sour_ip</th>\n",
       "      <th>dest_ip</th>\n",
       "    </tr>\n",
       "  </thead>\n",
       "  <tbody>\n",
       "    <tr>\n",
       "      <th>9378</th>\n",
       "      <td>1.331901e+09</td>\n",
       "      <td>Generic Protocol Command Decode</td>\n",
       "      <td>192.168.202.79</td>\n",
       "      <td>192.168.229.153</td>\n",
       "    </tr>\n",
       "    <tr>\n",
       "      <th>9379</th>\n",
       "      <td>1.331901e+09</td>\n",
       "      <td>Generic Protocol Command Decode</td>\n",
       "      <td>192.168.202.79</td>\n",
       "      <td>192.168.229.153</td>\n",
       "    </tr>\n",
       "    <tr>\n",
       "      <th>9380</th>\n",
       "      <td>1.331901e+09</td>\n",
       "      <td>Generic Protocol Command Decode</td>\n",
       "      <td>192.168.202.79</td>\n",
       "      <td>192.168.229.153</td>\n",
       "    </tr>\n",
       "    <tr>\n",
       "      <th>9381</th>\n",
       "      <td>1.331901e+09</td>\n",
       "      <td>Generic Protocol Command Decode</td>\n",
       "      <td>192.168.202.79</td>\n",
       "      <td>192.168.229.153</td>\n",
       "    </tr>\n",
       "    <tr>\n",
       "      <th>9384</th>\n",
       "      <td>1.331901e+09</td>\n",
       "      <td>Generic Protocol Command Decode</td>\n",
       "      <td>192.168.202.79</td>\n",
       "      <td>192.168.229.153</td>\n",
       "    </tr>\n",
       "  </tbody>\n",
       "</table>\n",
       "</div>"
      ],
      "text/plain": [
       "              time                         behavior         sour_ip  \\\n",
       "9378  1.331901e+09  Generic Protocol Command Decode  192.168.202.79   \n",
       "9379  1.331901e+09  Generic Protocol Command Decode  192.168.202.79   \n",
       "9380  1.331901e+09  Generic Protocol Command Decode  192.168.202.79   \n",
       "9381  1.331901e+09  Generic Protocol Command Decode  192.168.202.79   \n",
       "9384  1.331901e+09  Generic Protocol Command Decode  192.168.202.79   \n",
       "\n",
       "              dest_ip  \n",
       "9378  192.168.229.153  \n",
       "9379  192.168.229.153  \n",
       "9380  192.168.229.153  \n",
       "9381  192.168.229.153  \n",
       "9384  192.168.229.153  "
      ]
     },
     "execution_count": 9,
     "metadata": {},
     "output_type": "execute_result"
    }
   ],
   "source": [
    "def valid_ip(address):\n",
    "    try:\n",
    "        ipaddress.ip_address(address)\n",
    "        return True\n",
    "    except:\n",
    "        return False\n",
    "    \n",
    "filter_snort_df['sour_ip'] = filter_snort_df['sour_ip'].apply(lambda x: x if valid_ip(x) else ':'.join(x.split(':')[:-1]))\n",
    "filter_snort_df['dest_ip'] = filter_snort_df['dest_ip'].apply(lambda x: x if valid_ip(x) else ':'.join(x.split(':')[:-1]))\n",
    "filter_snort_df.head()"
   ]
  },
  {
   "cell_type": "code",
   "execution_count": 10,
   "metadata": {
    "ExecuteTime": {
     "end_time": "2018-08-01T03:32:45.287152Z",
     "start_time": "2018-08-01T03:32:45.131436Z"
    }
   },
   "outputs": [
    {
     "data": {
      "text/plain": [
       "58"
      ]
     },
     "execution_count": 10,
     "metadata": {},
     "output_type": "execute_result"
    }
   ],
   "source": [
    "sour_ip_value_counts = filter_snort_df['sour_ip'].value_counts()\n",
    "dest_ip_value_counts = filter_snort_df['dest_ip'].value_counts()\n",
    "\n",
    "merge_value_counts = sour_ip_value_counts.add(dest_ip_value_counts, fill_value=0)\n",
    "filter_merge_value_counts = merge_value_counts[merge_value_counts > 200].sort_values(axis=0, ascending=False)\n",
    "ip_list = list(filter_merge_value_counts.axes[0])\n",
    "len(ip_list)"
   ]
  },
  {
   "cell_type": "markdown",
   "metadata": {},
   "source": [
    "# Print out the current number of IP"
   ]
  },
  {
   "cell_type": "code",
   "execution_count": 11,
   "metadata": {
    "ExecuteTime": {
     "end_time": "2018-08-01T03:32:49.601794Z",
     "start_time": "2018-08-01T03:32:49.593973Z"
    }
   },
   "outputs": [
    {
     "data": {
      "text/plain": [
       "['192.168.22.102',\n",
       " '192.168.24.101',\n",
       " '192.168.25.25',\n",
       " '192.168.21.101',\n",
       " '192.168.229.153',\n",
       " '192.168.207.4',\n",
       " '192.168.21.152',\n",
       " '192.168.229.252',\n",
       " '192.168.202.71',\n",
       " '192.168.21.102']"
      ]
     },
     "execution_count": 11,
     "metadata": {},
     "output_type": "execute_result"
    }
   ],
   "source": [
    "target_ip_list = ip_list[-10:]\n",
    "target_ip_list"
   ]
  },
  {
   "cell_type": "markdown",
   "metadata": {
    "ExecuteTime": {
     "end_time": "2018-07-30T05:17:20.870810Z",
     "start_time": "2018-07-30T05:17:20.866848Z"
    }
   },
   "source": [
    "# Bro IP data preprocessing"
   ]
  },
  {
   "cell_type": "code",
   "execution_count": 12,
   "metadata": {
    "ExecuteTime": {
     "end_time": "2018-08-01T03:33:05.605048Z",
     "start_time": "2018-08-01T03:32:51.442180Z"
    }
   },
   "outputs": [
    {
     "data": {
      "text/plain": [
       "(1442389, 22)"
      ]
     },
     "execution_count": 12,
     "metadata": {},
     "output_type": "execute_result"
    }
   ],
   "source": [
    "filter_conn_df = conn_df[conn_df['id.orig_h'].isin(target_ip_list) | \n",
    "                         conn_df['id.resp_h'].isin(target_ip_list)]\n",
    "filter_conn_df.shape"
   ]
  },
  {
   "cell_type": "code",
   "execution_count": 13,
   "metadata": {
    "ExecuteTime": {
     "end_time": "2018-08-01T03:33:06.822007Z",
     "start_time": "2018-08-01T03:33:05.607236Z"
    }
   },
   "outputs": [
    {
     "data": {
      "text/html": [
       "<div>\n",
       "<style>\n",
       "    .dataframe thead tr:only-child th {\n",
       "        text-align: right;\n",
       "    }\n",
       "\n",
       "    .dataframe thead th {\n",
       "        text-align: left;\n",
       "    }\n",
       "\n",
       "    .dataframe tbody tr th {\n",
       "        vertical-align: top;\n",
       "    }\n",
       "</style>\n",
       "<table border=\"1\" class=\"dataframe\">\n",
       "  <thead>\n",
       "    <tr style=\"text-align: right;\">\n",
       "      <th></th>\n",
       "      <th>ts</th>\n",
       "      <th>uid</th>\n",
       "      <th>id.orig_h</th>\n",
       "      <th>id.orig_p</th>\n",
       "      <th>id.resp_h</th>\n",
       "      <th>id.resp_p</th>\n",
       "      <th>proto</th>\n",
       "      <th>service</th>\n",
       "      <th>duration</th>\n",
       "      <th>orig_bytes</th>\n",
       "      <th>...</th>\n",
       "      <th>orig_ip_bytes</th>\n",
       "      <th>resp_pkts</th>\n",
       "      <th>resp_ip_bytes</th>\n",
       "      <th>tunnel_parents</th>\n",
       "      <th>threat</th>\n",
       "      <th>sample</th>\n",
       "      <th>Potential Corporate Privacy Violation</th>\n",
       "      <th>Generic Protocol Command Decode</th>\n",
       "      <th>Detection of a Network Scan</th>\n",
       "      <th>Attempted Denial of Service</th>\n",
       "    </tr>\n",
       "  </thead>\n",
       "  <tbody>\n",
       "    <tr>\n",
       "      <th>707</th>\n",
       "      <td>1.331901e+09</td>\n",
       "      <td>CTgyMB2GL0FCCKgv04</td>\n",
       "      <td>192.168.202.71</td>\n",
       "      <td>137</td>\n",
       "      <td>192.168.202.255</td>\n",
       "      <td>137</td>\n",
       "      <td>udp</td>\n",
       "      <td>dns</td>\n",
       "      <td>2.010000</td>\n",
       "      <td>650</td>\n",
       "      <td>...</td>\n",
       "      <td>1014</td>\n",
       "      <td>0</td>\n",
       "      <td>0</td>\n",
       "      <td>(empty)</td>\n",
       "      <td>NaN</td>\n",
       "      <td>NaN</td>\n",
       "      <td>0</td>\n",
       "      <td>0</td>\n",
       "      <td>0</td>\n",
       "      <td>0</td>\n",
       "    </tr>\n",
       "    <tr>\n",
       "      <th>748</th>\n",
       "      <td>1.331901e+09</td>\n",
       "      <td>ClW5Ax1HMMLQKa41Ac</td>\n",
       "      <td>192.168.202.79</td>\n",
       "      <td>55173</td>\n",
       "      <td>192.168.229.153</td>\n",
       "      <td>445</td>\n",
       "      <td>tcp</td>\n",
       "      <td>-</td>\n",
       "      <td>55.200000</td>\n",
       "      <td>6135377</td>\n",
       "      <td>...</td>\n",
       "      <td>8402145</td>\n",
       "      <td>43683</td>\n",
       "      <td>3975036</td>\n",
       "      <td>(empty)</td>\n",
       "      <td>NaN</td>\n",
       "      <td>NaN</td>\n",
       "      <td>0</td>\n",
       "      <td>0</td>\n",
       "      <td>0</td>\n",
       "      <td>0</td>\n",
       "    </tr>\n",
       "    <tr>\n",
       "      <th>752</th>\n",
       "      <td>1.331901e+09</td>\n",
       "      <td>CetF5Pzr1hMNEqq7k</td>\n",
       "      <td>192.168.202.79</td>\n",
       "      <td>46827</td>\n",
       "      <td>192.168.229.252</td>\n",
       "      <td>636</td>\n",
       "      <td>tcp</td>\n",
       "      <td>-</td>\n",
       "      <td>-</td>\n",
       "      <td>-</td>\n",
       "      <td>...</td>\n",
       "      <td>112</td>\n",
       "      <td>2</td>\n",
       "      <td>100</td>\n",
       "      <td>(empty)</td>\n",
       "      <td>NaN</td>\n",
       "      <td>NaN</td>\n",
       "      <td>0</td>\n",
       "      <td>0</td>\n",
       "      <td>0</td>\n",
       "      <td>0</td>\n",
       "    </tr>\n",
       "    <tr>\n",
       "      <th>754</th>\n",
       "      <td>1.331901e+09</td>\n",
       "      <td>C420bf3sV7wgQSDOLd</td>\n",
       "      <td>192.168.202.79</td>\n",
       "      <td>46832</td>\n",
       "      <td>192.168.229.252</td>\n",
       "      <td>636</td>\n",
       "      <td>tcp</td>\n",
       "      <td>-</td>\n",
       "      <td>0.010000</td>\n",
       "      <td>132</td>\n",
       "      <td>...</td>\n",
       "      <td>296</td>\n",
       "      <td>2</td>\n",
       "      <td>100</td>\n",
       "      <td>(empty)</td>\n",
       "      <td>NaN</td>\n",
       "      <td>NaN</td>\n",
       "      <td>0</td>\n",
       "      <td>0</td>\n",
       "      <td>0</td>\n",
       "      <td>0</td>\n",
       "    </tr>\n",
       "    <tr>\n",
       "      <th>756</th>\n",
       "      <td>1.331901e+09</td>\n",
       "      <td>CoNOSc2XPv9SVSz259</td>\n",
       "      <td>192.168.202.79</td>\n",
       "      <td>34494</td>\n",
       "      <td>192.168.229.153</td>\n",
       "      <td>5357</td>\n",
       "      <td>tcp</td>\n",
       "      <td>http</td>\n",
       "      <td>0.030000</td>\n",
       "      <td>166</td>\n",
       "      <td>...</td>\n",
       "      <td>382</td>\n",
       "      <td>3</td>\n",
       "      <td>677</td>\n",
       "      <td>(empty)</td>\n",
       "      <td>NaN</td>\n",
       "      <td>NaN</td>\n",
       "      <td>0</td>\n",
       "      <td>0</td>\n",
       "      <td>0</td>\n",
       "      <td>0</td>\n",
       "    </tr>\n",
       "  </tbody>\n",
       "</table>\n",
       "<p>5 rows × 26 columns</p>\n",
       "</div>"
      ],
      "text/plain": [
       "               ts                 uid       id.orig_h  id.orig_p  \\\n",
       "707  1.331901e+09  CTgyMB2GL0FCCKgv04  192.168.202.71        137   \n",
       "748  1.331901e+09  ClW5Ax1HMMLQKa41Ac  192.168.202.79      55173   \n",
       "752  1.331901e+09   CetF5Pzr1hMNEqq7k  192.168.202.79      46827   \n",
       "754  1.331901e+09  C420bf3sV7wgQSDOLd  192.168.202.79      46832   \n",
       "756  1.331901e+09  CoNOSc2XPv9SVSz259  192.168.202.79      34494   \n",
       "\n",
       "           id.resp_h  id.resp_p proto service   duration orig_bytes  \\\n",
       "707  192.168.202.255        137   udp     dns   2.010000        650   \n",
       "748  192.168.229.153        445   tcp       -  55.200000    6135377   \n",
       "752  192.168.229.252        636   tcp       -          -          -   \n",
       "754  192.168.229.252        636   tcp       -   0.010000        132   \n",
       "756  192.168.229.153       5357   tcp    http   0.030000        166   \n",
       "\n",
       "                ...             orig_ip_bytes resp_pkts resp_ip_bytes  \\\n",
       "707             ...                      1014         0             0   \n",
       "748             ...                   8402145     43683       3975036   \n",
       "752             ...                       112         2           100   \n",
       "754             ...                       296         2           100   \n",
       "756             ...                       382         3           677   \n",
       "\n",
       "     tunnel_parents threat  sample  Potential Corporate Privacy Violation  \\\n",
       "707         (empty)    NaN     NaN                                      0   \n",
       "748         (empty)    NaN     NaN                                      0   \n",
       "752         (empty)    NaN     NaN                                      0   \n",
       "754         (empty)    NaN     NaN                                      0   \n",
       "756         (empty)    NaN     NaN                                      0   \n",
       "\n",
       "     Generic Protocol Command Decode  Detection of a Network Scan  \\\n",
       "707                                0                            0   \n",
       "748                                0                            0   \n",
       "752                                0                            0   \n",
       "754                                0                            0   \n",
       "756                                0                            0   \n",
       "\n",
       "    Attempted Denial of Service  \n",
       "707                           0  \n",
       "748                           0  \n",
       "752                           0  \n",
       "754                           0  \n",
       "756                           0  \n",
       "\n",
       "[5 rows x 26 columns]"
      ]
     },
     "execution_count": 13,
     "metadata": {},
     "output_type": "execute_result"
    }
   ],
   "source": [
    "mix_filter_conn_df = filter_conn_df.copy()\n",
    "count, _ = mix_filter_conn_df.shape\n",
    "\n",
    "for behavior in target_behavior_list:\n",
    "    mix_filter_conn_df[behavior] = [0] * count\n",
    "\n",
    "mix_filter_conn_df.head()"
   ]
  },
  {
   "cell_type": "markdown",
   "metadata": {},
   "source": [
    "# Bro orig_Port, resp_Port, one hot encoding"
   ]
  },
  {
   "cell_type": "code",
   "execution_count": 14,
   "metadata": {
    "ExecuteTime": {
     "end_time": "2018-08-01T03:33:07.420458Z",
     "start_time": "2018-08-01T03:33:06.824672Z"
    }
   },
   "outputs": [
    {
     "data": {
      "text/html": [
       "<div>\n",
       "<style>\n",
       "    .dataframe thead tr:only-child th {\n",
       "        text-align: right;\n",
       "    }\n",
       "\n",
       "    .dataframe thead th {\n",
       "        text-align: left;\n",
       "    }\n",
       "\n",
       "    .dataframe tbody tr th {\n",
       "        vertical-align: top;\n",
       "    }\n",
       "</style>\n",
       "<table border=\"1\" class=\"dataframe\">\n",
       "  <thead>\n",
       "    <tr style=\"text-align: right;\">\n",
       "      <th></th>\n",
       "      <th>ts</th>\n",
       "      <th>uid</th>\n",
       "      <th>id.orig_h</th>\n",
       "      <th>id.orig_p</th>\n",
       "      <th>id.resp_h</th>\n",
       "      <th>id.resp_p</th>\n",
       "      <th>proto</th>\n",
       "      <th>service</th>\n",
       "      <th>duration</th>\n",
       "      <th>orig_bytes</th>\n",
       "      <th>...</th>\n",
       "      <th>orig_ip_bytes</th>\n",
       "      <th>resp_pkts</th>\n",
       "      <th>resp_ip_bytes</th>\n",
       "      <th>tunnel_parents</th>\n",
       "      <th>threat</th>\n",
       "      <th>sample</th>\n",
       "      <th>Potential Corporate Privacy Violation</th>\n",
       "      <th>Generic Protocol Command Decode</th>\n",
       "      <th>Detection of a Network Scan</th>\n",
       "      <th>Attempted Denial of Service</th>\n",
       "    </tr>\n",
       "  </thead>\n",
       "  <tbody>\n",
       "    <tr>\n",
       "      <th>707</th>\n",
       "      <td>1.331901e+09</td>\n",
       "      <td>CTgyMB2GL0FCCKgv04</td>\n",
       "      <td>192.168.202.71</td>\n",
       "      <td>0</td>\n",
       "      <td>192.168.202.255</td>\n",
       "      <td>0</td>\n",
       "      <td>udp</td>\n",
       "      <td>dns</td>\n",
       "      <td>2.010000</td>\n",
       "      <td>650</td>\n",
       "      <td>...</td>\n",
       "      <td>1014</td>\n",
       "      <td>0</td>\n",
       "      <td>0</td>\n",
       "      <td>(empty)</td>\n",
       "      <td>NaN</td>\n",
       "      <td>NaN</td>\n",
       "      <td>0</td>\n",
       "      <td>0</td>\n",
       "      <td>0</td>\n",
       "      <td>0</td>\n",
       "    </tr>\n",
       "    <tr>\n",
       "      <th>748</th>\n",
       "      <td>1.331901e+09</td>\n",
       "      <td>ClW5Ax1HMMLQKa41Ac</td>\n",
       "      <td>192.168.202.79</td>\n",
       "      <td>2</td>\n",
       "      <td>192.168.229.153</td>\n",
       "      <td>0</td>\n",
       "      <td>tcp</td>\n",
       "      <td>-</td>\n",
       "      <td>55.200000</td>\n",
       "      <td>6135377</td>\n",
       "      <td>...</td>\n",
       "      <td>8402145</td>\n",
       "      <td>43683</td>\n",
       "      <td>3975036</td>\n",
       "      <td>(empty)</td>\n",
       "      <td>NaN</td>\n",
       "      <td>NaN</td>\n",
       "      <td>0</td>\n",
       "      <td>0</td>\n",
       "      <td>0</td>\n",
       "      <td>0</td>\n",
       "    </tr>\n",
       "    <tr>\n",
       "      <th>752</th>\n",
       "      <td>1.331901e+09</td>\n",
       "      <td>CetF5Pzr1hMNEqq7k</td>\n",
       "      <td>192.168.202.79</td>\n",
       "      <td>1</td>\n",
       "      <td>192.168.229.252</td>\n",
       "      <td>0</td>\n",
       "      <td>tcp</td>\n",
       "      <td>-</td>\n",
       "      <td>-</td>\n",
       "      <td>-</td>\n",
       "      <td>...</td>\n",
       "      <td>112</td>\n",
       "      <td>2</td>\n",
       "      <td>100</td>\n",
       "      <td>(empty)</td>\n",
       "      <td>NaN</td>\n",
       "      <td>NaN</td>\n",
       "      <td>0</td>\n",
       "      <td>0</td>\n",
       "      <td>0</td>\n",
       "      <td>0</td>\n",
       "    </tr>\n",
       "    <tr>\n",
       "      <th>754</th>\n",
       "      <td>1.331901e+09</td>\n",
       "      <td>C420bf3sV7wgQSDOLd</td>\n",
       "      <td>192.168.202.79</td>\n",
       "      <td>1</td>\n",
       "      <td>192.168.229.252</td>\n",
       "      <td>0</td>\n",
       "      <td>tcp</td>\n",
       "      <td>-</td>\n",
       "      <td>0.010000</td>\n",
       "      <td>132</td>\n",
       "      <td>...</td>\n",
       "      <td>296</td>\n",
       "      <td>2</td>\n",
       "      <td>100</td>\n",
       "      <td>(empty)</td>\n",
       "      <td>NaN</td>\n",
       "      <td>NaN</td>\n",
       "      <td>0</td>\n",
       "      <td>0</td>\n",
       "      <td>0</td>\n",
       "      <td>0</td>\n",
       "    </tr>\n",
       "    <tr>\n",
       "      <th>756</th>\n",
       "      <td>1.331901e+09</td>\n",
       "      <td>CoNOSc2XPv9SVSz259</td>\n",
       "      <td>192.168.202.79</td>\n",
       "      <td>1</td>\n",
       "      <td>192.168.229.153</td>\n",
       "      <td>1</td>\n",
       "      <td>tcp</td>\n",
       "      <td>http</td>\n",
       "      <td>0.030000</td>\n",
       "      <td>166</td>\n",
       "      <td>...</td>\n",
       "      <td>382</td>\n",
       "      <td>3</td>\n",
       "      <td>677</td>\n",
       "      <td>(empty)</td>\n",
       "      <td>NaN</td>\n",
       "      <td>NaN</td>\n",
       "      <td>0</td>\n",
       "      <td>0</td>\n",
       "      <td>0</td>\n",
       "      <td>0</td>\n",
       "    </tr>\n",
       "  </tbody>\n",
       "</table>\n",
       "<p>5 rows × 26 columns</p>\n",
       "</div>"
      ],
      "text/plain": [
       "               ts                 uid       id.orig_h  id.orig_p  \\\n",
       "707  1.331901e+09  CTgyMB2GL0FCCKgv04  192.168.202.71          0   \n",
       "748  1.331901e+09  ClW5Ax1HMMLQKa41Ac  192.168.202.79          2   \n",
       "752  1.331901e+09   CetF5Pzr1hMNEqq7k  192.168.202.79          1   \n",
       "754  1.331901e+09  C420bf3sV7wgQSDOLd  192.168.202.79          1   \n",
       "756  1.331901e+09  CoNOSc2XPv9SVSz259  192.168.202.79          1   \n",
       "\n",
       "           id.resp_h  id.resp_p proto service   duration orig_bytes  \\\n",
       "707  192.168.202.255          0   udp     dns   2.010000        650   \n",
       "748  192.168.229.153          0   tcp       -  55.200000    6135377   \n",
       "752  192.168.229.252          0   tcp       -          -          -   \n",
       "754  192.168.229.252          0   tcp       -   0.010000        132   \n",
       "756  192.168.229.153          1   tcp    http   0.030000        166   \n",
       "\n",
       "                ...             orig_ip_bytes resp_pkts resp_ip_bytes  \\\n",
       "707             ...                      1014         0             0   \n",
       "748             ...                   8402145     43683       3975036   \n",
       "752             ...                       112         2           100   \n",
       "754             ...                       296         2           100   \n",
       "756             ...                       382         3           677   \n",
       "\n",
       "     tunnel_parents threat  sample  Potential Corporate Privacy Violation  \\\n",
       "707         (empty)    NaN     NaN                                      0   \n",
       "748         (empty)    NaN     NaN                                      0   \n",
       "752         (empty)    NaN     NaN                                      0   \n",
       "754         (empty)    NaN     NaN                                      0   \n",
       "756         (empty)    NaN     NaN                                      0   \n",
       "\n",
       "     Generic Protocol Command Decode  Detection of a Network Scan  \\\n",
       "707                                0                            0   \n",
       "748                                0                            0   \n",
       "752                                0                            0   \n",
       "754                                0                            0   \n",
       "756                                0                            0   \n",
       "\n",
       "    Attempted Denial of Service  \n",
       "707                           0  \n",
       "748                           0  \n",
       "752                           0  \n",
       "754                           0  \n",
       "756                           0  \n",
       "\n",
       "[5 rows x 26 columns]"
      ]
     },
     "execution_count": 14,
     "metadata": {},
     "output_type": "execute_result"
    }
   ],
   "source": [
    "adjusted_mix_filter_conn_df = mix_filter_conn_df.copy()\n",
    "adjusted_mix_filter_conn_df['id.orig_p'] = pd.cut(adjusted_mix_filter_conn_df['id.orig_p'], \n",
    "                                                  bins=[-1, 1023, 49151, np.inf], \n",
    "                                                  labels=False, right=True)\n",
    "adjusted_mix_filter_conn_df['id.resp_p'] = pd.cut(adjusted_mix_filter_conn_df['id.resp_p'],\n",
    "                                                  bins=[-1, 1023, 49151, np.inf], \n",
    "                                                  labels=False, right=True)\n",
    "adjusted_mix_filter_conn_df.head()"
   ]
  },
  {
   "cell_type": "markdown",
   "metadata": {},
   "source": [
    "### The function contains one hot and data pre-processing, normalize"
   ]
  },
  {
   "cell_type": "code",
   "execution_count": 15,
   "metadata": {
    "ExecuteTime": {
     "end_time": "2018-08-01T03:33:07.460509Z",
     "start_time": "2018-08-01T03:33:07.423338Z"
    },
    "collapsed": true
   },
   "outputs": [],
   "source": [
    "def one_hot(df, cols):\n",
    "    for each in cols:\n",
    "        dummies = pd.get_dummies(df[each], prefix=each, drop_first=False)\n",
    "        df = pd.concat([df, dummies], axis=1)\n",
    "    df = df.drop(cols, axis=1)\n",
    "    \n",
    "    return df\n",
    "\n",
    "def add_no_value(df, cols):\n",
    "    for col in cols:\n",
    "        df['no_' + col] = df[col].astype(str) == '-'\n",
    "        df['no_' + col] = df['no_' + col].astype(int)\n",
    "    return df\n",
    "\n",
    "def normalize(df, cols):\n",
    "    temp_df = df[cols]\n",
    "    temp_df[cols] = temp_df[cols].astype(str)\n",
    "    temp_df.replace({'-': '0'}, inplace=True)\n",
    "    \n",
    "    # transfer type\n",
    "    for col in cols:\n",
    "        temp_df[col] = temp_df[col].astype(float)\n",
    "        \n",
    "    temp_df = (temp_df - temp_df.min()) / (temp_df.max() - temp_df.min())\n",
    "    \n",
    "    for col in cols:\n",
    "        df[col] = temp_df[col]\n",
    "    \n",
    "    return df"
   ]
  },
  {
   "cell_type": "markdown",
   "metadata": {},
   "source": [
    "### Select the field you want to process before the data"
   ]
  },
  {
   "cell_type": "code",
   "execution_count": 16,
   "metadata": {
    "ExecuteTime": {
     "end_time": "2018-08-01T03:33:52.339708Z",
     "start_time": "2018-08-01T03:33:36.930394Z"
    }
   },
   "outputs": [
    {
     "name": "stderr",
     "output_type": "stream",
     "text": [
      "/home/letitgo/anaconda3/lib/python3.6/site-packages/pandas/core/frame.py:2450: SettingWithCopyWarning: \n",
      "A value is trying to be set on a copy of a slice from a DataFrame.\n",
      "Try using .loc[row_indexer,col_indexer] = value instead\n",
      "\n",
      "See the caveats in the documentation: http://pandas.pydata.org/pandas-docs/stable/indexing.html#indexing-view-versus-copy\n",
      "  self[k1] = value[k2]\n",
      "/home/letitgo/anaconda3/lib/python3.6/site-packages/pandas/core/generic.py:3725: SettingWithCopyWarning: \n",
      "A value is trying to be set on a copy of a slice from a DataFrame\n",
      "\n",
      "See the caveats in the documentation: http://pandas.pydata.org/pandas-docs/stable/indexing.html#indexing-view-versus-copy\n",
      "  limit=limit, regex=regex)\n",
      "/home/letitgo/anaconda3/lib/python3.6/site-packages/ipykernel_launcher.py:22: SettingWithCopyWarning: \n",
      "A value is trying to be set on a copy of a slice from a DataFrame.\n",
      "Try using .loc[row_indexer,col_indexer] = value instead\n",
      "\n",
      "See the caveats in the documentation: http://pandas.pydata.org/pandas-docs/stable/indexing.html#indexing-view-versus-copy\n"
     ]
    },
    {
     "data": {
      "text/html": [
       "<div>\n",
       "<style>\n",
       "    .dataframe thead tr:only-child th {\n",
       "        text-align: right;\n",
       "    }\n",
       "\n",
       "    .dataframe thead th {\n",
       "        text-align: left;\n",
       "    }\n",
       "\n",
       "    .dataframe tbody tr th {\n",
       "        vertical-align: top;\n",
       "    }\n",
       "</style>\n",
       "<table border=\"1\" class=\"dataframe\">\n",
       "  <thead>\n",
       "    <tr style=\"text-align: right;\">\n",
       "      <th></th>\n",
       "      <th>ts</th>\n",
       "      <th>uid</th>\n",
       "      <th>id.orig_h</th>\n",
       "      <th>id.resp_h</th>\n",
       "      <th>service</th>\n",
       "      <th>duration</th>\n",
       "      <th>orig_bytes</th>\n",
       "      <th>resp_bytes</th>\n",
       "      <th>conn_state</th>\n",
       "      <th>local_orig</th>\n",
       "      <th>...</th>\n",
       "      <th>no_resp_bytes</th>\n",
       "      <th>id.orig_p_0</th>\n",
       "      <th>id.orig_p_1</th>\n",
       "      <th>id.orig_p_2</th>\n",
       "      <th>id.resp_p_0</th>\n",
       "      <th>id.resp_p_1</th>\n",
       "      <th>id.resp_p_2</th>\n",
       "      <th>proto_icmp</th>\n",
       "      <th>proto_tcp</th>\n",
       "      <th>proto_udp</th>\n",
       "    </tr>\n",
       "  </thead>\n",
       "  <tbody>\n",
       "    <tr>\n",
       "      <th>707</th>\n",
       "      <td>1.331901e+09</td>\n",
       "      <td>CTgyMB2GL0FCCKgv04</td>\n",
       "      <td>192.168.202.71</td>\n",
       "      <td>192.168.202.255</td>\n",
       "      <td>dns</td>\n",
       "      <td>0.001282</td>\n",
       "      <td>1.832717e-07</td>\n",
       "      <td>0.000000e+00</td>\n",
       "      <td>S0</td>\n",
       "      <td>-</td>\n",
       "      <td>...</td>\n",
       "      <td>0</td>\n",
       "      <td>1</td>\n",
       "      <td>0</td>\n",
       "      <td>0</td>\n",
       "      <td>1</td>\n",
       "      <td>0</td>\n",
       "      <td>0</td>\n",
       "      <td>0</td>\n",
       "      <td>0</td>\n",
       "      <td>1</td>\n",
       "    </tr>\n",
       "    <tr>\n",
       "      <th>748</th>\n",
       "      <td>1.331901e+09</td>\n",
       "      <td>ClW5Ax1HMMLQKa41Ac</td>\n",
       "      <td>192.168.202.79</td>\n",
       "      <td>192.168.229.153</td>\n",
       "      <td>-</td>\n",
       "      <td>0.035217</td>\n",
       "      <td>1.729909e-03</td>\n",
       "      <td>1.302153e-03</td>\n",
       "      <td>RSTR</td>\n",
       "      <td>-</td>\n",
       "      <td>...</td>\n",
       "      <td>0</td>\n",
       "      <td>0</td>\n",
       "      <td>0</td>\n",
       "      <td>1</td>\n",
       "      <td>1</td>\n",
       "      <td>0</td>\n",
       "      <td>0</td>\n",
       "      <td>0</td>\n",
       "      <td>1</td>\n",
       "      <td>0</td>\n",
       "    </tr>\n",
       "    <tr>\n",
       "      <th>752</th>\n",
       "      <td>1.331901e+09</td>\n",
       "      <td>CetF5Pzr1hMNEqq7k</td>\n",
       "      <td>192.168.202.79</td>\n",
       "      <td>192.168.229.252</td>\n",
       "      <td>-</td>\n",
       "      <td>0.000000</td>\n",
       "      <td>0.000000e+00</td>\n",
       "      <td>0.000000e+00</td>\n",
       "      <td>RSTR</td>\n",
       "      <td>-</td>\n",
       "      <td>...</td>\n",
       "      <td>1</td>\n",
       "      <td>0</td>\n",
       "      <td>1</td>\n",
       "      <td>0</td>\n",
       "      <td>1</td>\n",
       "      <td>0</td>\n",
       "      <td>0</td>\n",
       "      <td>0</td>\n",
       "      <td>1</td>\n",
       "      <td>0</td>\n",
       "    </tr>\n",
       "    <tr>\n",
       "      <th>754</th>\n",
       "      <td>1.331901e+09</td>\n",
       "      <td>C420bf3sV7wgQSDOLd</td>\n",
       "      <td>192.168.202.79</td>\n",
       "      <td>192.168.229.252</td>\n",
       "      <td>-</td>\n",
       "      <td>0.000006</td>\n",
       "      <td>3.721825e-08</td>\n",
       "      <td>0.000000e+00</td>\n",
       "      <td>RSTR</td>\n",
       "      <td>-</td>\n",
       "      <td>...</td>\n",
       "      <td>0</td>\n",
       "      <td>0</td>\n",
       "      <td>1</td>\n",
       "      <td>0</td>\n",
       "      <td>1</td>\n",
       "      <td>0</td>\n",
       "      <td>0</td>\n",
       "      <td>0</td>\n",
       "      <td>1</td>\n",
       "      <td>0</td>\n",
       "    </tr>\n",
       "    <tr>\n",
       "      <th>756</th>\n",
       "      <td>1.331901e+09</td>\n",
       "      <td>CoNOSc2XPv9SVSz259</td>\n",
       "      <td>192.168.202.79</td>\n",
       "      <td>192.168.229.153</td>\n",
       "      <td>http</td>\n",
       "      <td>0.000019</td>\n",
       "      <td>4.680477e-08</td>\n",
       "      <td>3.917730e-07</td>\n",
       "      <td>SF</td>\n",
       "      <td>-</td>\n",
       "      <td>...</td>\n",
       "      <td>0</td>\n",
       "      <td>0</td>\n",
       "      <td>1</td>\n",
       "      <td>0</td>\n",
       "      <td>0</td>\n",
       "      <td>1</td>\n",
       "      <td>0</td>\n",
       "      <td>0</td>\n",
       "      <td>1</td>\n",
       "      <td>0</td>\n",
       "    </tr>\n",
       "  </tbody>\n",
       "</table>\n",
       "<p>5 rows × 35 columns</p>\n",
       "</div>"
      ],
      "text/plain": [
       "               ts                 uid       id.orig_h        id.resp_h  \\\n",
       "707  1.331901e+09  CTgyMB2GL0FCCKgv04  192.168.202.71  192.168.202.255   \n",
       "748  1.331901e+09  ClW5Ax1HMMLQKa41Ac  192.168.202.79  192.168.229.153   \n",
       "752  1.331901e+09   CetF5Pzr1hMNEqq7k  192.168.202.79  192.168.229.252   \n",
       "754  1.331901e+09  C420bf3sV7wgQSDOLd  192.168.202.79  192.168.229.252   \n",
       "756  1.331901e+09  CoNOSc2XPv9SVSz259  192.168.202.79  192.168.229.153   \n",
       "\n",
       "    service  duration    orig_bytes    resp_bytes conn_state local_orig  \\\n",
       "707     dns  0.001282  1.832717e-07  0.000000e+00         S0          -   \n",
       "748       -  0.035217  1.729909e-03  1.302153e-03       RSTR          -   \n",
       "752       -  0.000000  0.000000e+00  0.000000e+00       RSTR          -   \n",
       "754       -  0.000006  3.721825e-08  0.000000e+00       RSTR          -   \n",
       "756    http  0.000019  4.680477e-08  3.917730e-07         SF          -   \n",
       "\n",
       "       ...      no_resp_bytes id.orig_p_0  id.orig_p_1  id.orig_p_2  \\\n",
       "707    ...                  0           1            0            0   \n",
       "748    ...                  0           0            0            1   \n",
       "752    ...                  1           0            1            0   \n",
       "754    ...                  0           0            1            0   \n",
       "756    ...                  0           0            1            0   \n",
       "\n",
       "     id.resp_p_0  id.resp_p_1 id.resp_p_2  proto_icmp  proto_tcp  proto_udp  \n",
       "707            1            0           0           0          0          1  \n",
       "748            1            0           0           0          1          0  \n",
       "752            1            0           0           0          1          0  \n",
       "754            1            0           0           0          1          0  \n",
       "756            0            1           0           0          1          0  \n",
       "\n",
       "[5 rows x 35 columns]"
      ]
     },
     "execution_count": 16,
     "metadata": {},
     "output_type": "execute_result"
    }
   ],
   "source": [
    "adjusted_mix_filter_conn_df = add_no_value(adjusted_mix_filter_conn_df, \n",
    "                                           cols=['duration', 'orig_bytes', 'resp_bytes'])\n",
    "adjusted_mix_filter_conn_df = normalize(adjusted_mix_filter_conn_df, \n",
    "                                        cols=['duration', 'orig_bytes', 'resp_bytes', \n",
    "                                              'orig_pkts', 'orig_ip_bytes',\n",
    "                                              'resp_pkts', 'resp_ip_bytes'])\n",
    "adjusted_mix_filter_conn_df = one_hot(adjusted_mix_filter_conn_df, \n",
    "                                      cols=['id.orig_p', 'id.resp_p','proto'])\n",
    "\n",
    "adjusted_mix_filter_conn_df.head()"
   ]
  },
  {
   "cell_type": "code",
   "execution_count": 17,
   "metadata": {
    "ExecuteTime": {
     "end_time": "2018-08-01T03:33:52.346096Z",
     "start_time": "2018-08-01T03:33:52.341501Z"
    }
   },
   "outputs": [
    {
     "data": {
      "text/plain": [
       "['ts',\n",
       " 'uid',\n",
       " 'id.orig_h',\n",
       " 'id.resp_h',\n",
       " 'service',\n",
       " 'duration',\n",
       " 'orig_bytes',\n",
       " 'resp_bytes',\n",
       " 'conn_state',\n",
       " 'local_orig',\n",
       " 'missed_bytes',\n",
       " 'history',\n",
       " 'orig_pkts',\n",
       " 'orig_ip_bytes',\n",
       " 'resp_pkts',\n",
       " 'resp_ip_bytes',\n",
       " 'tunnel_parents',\n",
       " 'threat',\n",
       " 'sample',\n",
       " 'Potential Corporate Privacy Violation',\n",
       " 'Generic Protocol Command Decode',\n",
       " 'Detection of a Network Scan',\n",
       " 'Attempted Denial of Service',\n",
       " 'no_duration',\n",
       " 'no_orig_bytes',\n",
       " 'no_resp_bytes',\n",
       " 'id.orig_p_0',\n",
       " 'id.orig_p_1',\n",
       " 'id.orig_p_2',\n",
       " 'id.resp_p_0',\n",
       " 'id.resp_p_1',\n",
       " 'id.resp_p_2',\n",
       " 'proto_icmp',\n",
       " 'proto_tcp',\n",
       " 'proto_udp']"
      ]
     },
     "execution_count": 17,
     "metadata": {},
     "output_type": "execute_result"
    }
   ],
   "source": [
    "list(adjusted_mix_filter_conn_df)"
   ]
  },
  {
   "cell_type": "markdown",
   "metadata": {
    "ExecuteTime": {
     "end_time": "2018-07-30T05:24:51.676832Z",
     "start_time": "2018-07-30T05:24:51.672754Z"
    }
   },
   "source": [
    "# target_ip_list choose the IP you want"
   ]
  },
  {
   "cell_type": "code",
   "execution_count": 18,
   "metadata": {
    "ExecuteTime": {
     "end_time": "2018-08-01T03:33:56.070474Z",
     "start_time": "2018-08-01T03:33:52.347752Z"
    }
   },
   "outputs": [
    {
     "name": "stdout",
     "output_type": "stream",
     "text": [
      "192.168.22.102 (149334, 35) (257, 4)\n",
      "192.168.24.101 (173854, 35) (244, 4)\n",
      "192.168.25.25 (152404, 35) (1432, 4)\n",
      "192.168.21.101 (145859, 35) (236, 4)\n",
      "192.168.229.153 (246930, 35) (220, 4)\n",
      "192.168.207.4 (113148, 35) (212, 4)\n",
      "192.168.21.152 (59417, 35) (210, 4)\n",
      "192.168.229.252 (260471, 35) (209, 4)\n",
      "192.168.202.71 (5412, 35) (206, 4)\n",
      "192.168.21.102 (150646, 35) (204, 4)\n"
     ]
    }
   ],
   "source": [
    "sub_adjusted_mix_filter_conn_df_list = []\n",
    "sub_filter_conn_df_list = []\n",
    "\n",
    "for target_ip in target_ip_list:\n",
    "    sub_adjusted_mix_filter_conn_df = adjusted_mix_filter_conn_df[adjusted_mix_filter_conn_df['id.orig_h'].isin([target_ip]) | \n",
    "                                                                  adjusted_mix_filter_conn_df['id.resp_h'].isin([target_ip])]\n",
    "    sub_adjusted_mix_filter_conn_df_list.append(sub_adjusted_mix_filter_conn_df)\n",
    "    \n",
    "    # 可以改 ==\n",
    "    sub_filter_conn_df = filter_snort_df[filter_snort_df['sour_ip'].str.contains(target_ip) | \n",
    "                                         filter_snort_df['dest_ip'].str.contains(target_ip)]\n",
    "    sub_filter_conn_df_list.append(sub_filter_conn_df)\n",
    "    print(target_ip, sub_adjusted_mix_filter_conn_df.shape, sub_filter_conn_df.shape)"
   ]
  },
  {
   "cell_type": "markdown",
   "metadata": {},
   "source": [
    "### Predicting abnormal behavior within a few minutes"
   ]
  },
  {
   "cell_type": "code",
   "execution_count": null,
   "metadata": {
    "ExecuteTime": {
     "start_time": "2018-08-01T03:34:10.128Z"
    }
   },
   "outputs": [
    {
     "name": "stdout",
     "output_type": "stream",
     "text": [
      "192.168.22.102 (149334, 35)\n"
     ]
    },
    {
     "name": "stderr",
     "output_type": "stream",
     "text": [
      "/home/letitgo/anaconda3/lib/python3.6/site-packages/pandas/core/indexing.py:517: SettingWithCopyWarning: \n",
      "A value is trying to be set on a copy of a slice from a DataFrame.\n",
      "Try using .loc[row_indexer,col_indexer] = value instead\n",
      "\n",
      "See the caveats in the documentation: http://pandas.pydata.org/pandas-docs/stable/indexing.html#indexing-view-versus-copy\n",
      "  self.obj[item] = s\n"
     ]
    }
   ],
   "source": [
    "window_time = 3600.0\n",
    "\n",
    "for i in range(len(target_ip_list)):\n",
    "    target_ip = target_ip_list[i]\n",
    "    sub_adjusted_mix_filter_conn_df = sub_adjusted_mix_filter_conn_df_list[i]\n",
    "    sub_filter_conn_df = sub_filter_conn_df_list[i]\n",
    "    \n",
    "    #\n",
    "    #last_time = sub_filter_conn_df.tail(1)['time'].values[0]\n",
    "    print(target_ip, sub_adjusted_mix_filter_conn_df.shape)\n",
    "    \n",
    "    for index, row in sub_adjusted_mix_filter_conn_df.iterrows():\n",
    "        #if row['ts'] >= last_time:\n",
    "        #    continue\n",
    "        if row['duration'] != '-':\n",
    "            start_ts = row['ts'] + float(row['duration'])\n",
    "        else:\n",
    "            start_ts = row['ts']\n",
    "            \n",
    "        end_ts = start_ts + window_time\n",
    "        orig_h = row['id.orig_h']\n",
    "        resp_h = row['id.resp_h']\n",
    "        \n",
    "        temp_snort_df = sub_filter_conn_df[sub_filter_conn_df['time'] > start_ts]\n",
    "        temp_snort_df = temp_snort_df[temp_snort_df['time'] <= end_ts]\n",
    "        \n",
    "        count, _ = temp_snort_df.shape\n",
    "        if count != 0:\n",
    "            for behavior in list(temp_snort_df['behavior'].unique()):\n",
    "                sub_adjusted_mix_filter_conn_df.loc[index, behavior] = 1"
   ]
  },
  {
   "cell_type": "code",
   "execution_count": null,
   "metadata": {
    "ExecuteTime": {
     "start_time": "2018-08-01T03:34:18.752Z"
    },
    "collapsed": true
   },
   "outputs": [],
   "source": [
    "adjusted_mix_filter_conn_df = pd.concat(sub_adjusted_mix_filter_conn_df_list)"
   ]
  },
  {
   "cell_type": "code",
   "execution_count": null,
   "metadata": {
    "ExecuteTime": {
     "start_time": "2018-08-01T03:34:19.577Z"
    },
    "collapsed": true
   },
   "outputs": [],
   "source": [
    "attack_count = 4\n",
    "status_list = list(set(itertools.permutations( [0, 1] * attack_count, attack_count)))\n",
    "status_list"
   ]
  },
  {
   "cell_type": "code",
   "execution_count": null,
   "metadata": {
    "ExecuteTime": {
     "start_time": "2018-08-01T03:34:20.440Z"
    },
    "collapsed": true
   },
   "outputs": [],
   "source": [
    "for status in status_list:\n",
    "    temp_df = adjusted_mix_filter_conn_df.copy()\n",
    "    for index in range(len(status)):\n",
    "        attack_status = status[index]\n",
    "        target_behavior = target_behavior_list[index]\n",
    "        temp_df = temp_df[temp_df[target_behavior] == attack_status]\n",
    "    count, _ = temp_df[target_behavior_list].shape\n",
    "    print(status, count)"
   ]
  },
  {
   "cell_type": "markdown",
   "metadata": {},
   "source": [
    "# Sampling"
   ]
  },
  {
   "cell_type": "code",
   "execution_count": null,
   "metadata": {
    "ExecuteTime": {
     "start_time": "2018-08-01T03:34:23.176Z"
    },
    "collapsed": true
   },
   "outputs": [],
   "source": [
    "N = 20000\n",
    "sample_df_list = []\n",
    "\n",
    "for target_behavior in target_behavior_list:\n",
    "    print(target_behavior)\n",
    "    temp_df = adjusted_mix_filter_conn_df[adjusted_mix_filter_conn_df[target_behavior] == 1]\n",
    "    sample_df = temp_df.sample(N)\n",
    "    sample_df_list.append(sample_df)\n",
    "    \n",
    "sample_df = pd.concat(sample_df_list)\n",
    "print(len(sample_df))\n",
    "sample_df.head()"
   ]
  },
  {
   "cell_type": "markdown",
   "metadata": {},
   "source": [
    "# See how many flows you want to refer to"
   ]
  },
  {
   "cell_type": "code",
   "execution_count": null,
   "metadata": {
    "ExecuteTime": {
     "start_time": "2018-08-01T03:34:26.857Z"
    },
    "collapsed": true
   },
   "outputs": [],
   "source": [
    "window_size = 10\n",
    "data_label_df_list = []\n",
    "\n",
    "for index, row in sample_df.iterrows():\n",
    "    for sub_adjusted_mix_filter_conn_df in sub_adjusted_mix_filter_conn_df_list:\n",
    "        if index in sub_adjusted_mix_filter_conn_df.index:\n",
    "            data_label_df = sub_adjusted_mix_filter_conn_df.loc[:index].tail(window_size)\n",
    "            count, _ = data_label_df.shape\n",
    "            if count != window_size:\n",
    "                # 如果 < window_size，就不training 及 testing\n",
    "                print(count)\n",
    "            else:\n",
    "                data_label_df_list.append(data_label_df)\n",
    "                \n",
    "            break\n",
    "\n",
    "print(len(data_label_df_list))"
   ]
  },
  {
   "cell_type": "markdown",
   "metadata": {},
   "source": [
    "# Remove unwanted fields"
   ]
  },
  {
   "cell_type": "code",
   "execution_count": null,
   "metadata": {
    "ExecuteTime": {
     "start_time": "2018-08-01T03:34:29.968Z"
    },
    "collapsed": true
   },
   "outputs": [],
   "source": [
    "drop_cols = ['ts', 'uid', 'id.orig_h', 'id.resp_h', 'local_orig', \n",
    "             'missed_bytes', 'history', 'tunnel_parents', 'threat', 'sample','service', 'conn_state']\n",
    "\n",
    "data_list = []\n",
    "label_list = []\n",
    "\n",
    "for data_label_df in data_label_df_list:\n",
    "    data_label_df = data_label_df.drop(drop_cols, axis=1)\n",
    "\n",
    "    label_df = data_label_df[target_behavior_list]\n",
    "    label = label_df.iloc[-1].tolist()\n",
    "        \n",
    "    data_cols = data_label_df.columns.difference(target_behavior_list)\n",
    "    data_df = data_label_df[data_cols]\n",
    "    data = data_df.values.tolist()\n",
    "    \n",
    "    data_list.append(data)\n",
    "    label_list.append(label)"
   ]
  },
  {
   "cell_type": "markdown",
   "metadata": {},
   "source": [
    "# Store data for training"
   ]
  },
  {
   "cell_type": "code",
   "execution_count": null,
   "metadata": {
    "ExecuteTime": {
     "start_time": "2018-08-01T03:34:55.751Z"
    },
    "collapsed": true
   },
   "outputs": [],
   "source": [
    "with open('data_list_netflow_10_30', 'wb') as fp:\n",
    "    pickle.dump(data_list, fp)\n",
    "\n",
    "with open('label_list_netflow_10_30', 'wb') as fp:\n",
    "    pickle.dump(label_list, fp)"
   ]
  },
  {
   "cell_type": "code",
   "execution_count": null,
   "metadata": {
    "collapsed": true
   },
   "outputs": [],
   "source": []
  }
 ],
 "metadata": {
  "kernelspec": {
   "display_name": "Python 3",
   "language": "python",
   "name": "python3"
  },
  "language_info": {
   "codemirror_mode": {
    "name": "ipython",
    "version": 3
   },
   "file_extension": ".py",
   "mimetype": "text/x-python",
   "name": "python",
   "nbconvert_exporter": "python",
   "pygments_lexer": "ipython3",
   "version": "3.6.1"
  },
  "varInspector": {
   "cols": {
    "lenName": 16,
    "lenType": 16,
    "lenVar": 40
   },
   "kernels_config": {
    "python": {
     "delete_cmd_postfix": "",
     "delete_cmd_prefix": "del ",
     "library": "var_list.py",
     "varRefreshCmd": "print(var_dic_list())"
    },
    "r": {
     "delete_cmd_postfix": ") ",
     "delete_cmd_prefix": "rm(",
     "library": "var_list.r",
     "varRefreshCmd": "cat(var_dic_list()) "
    }
   },
   "position": {
    "height": "474px",
    "left": "1166px",
    "right": "20px",
    "top": "120px",
    "width": "355px"
   },
   "types_to_exclude": [
    "module",
    "function",
    "builtin_function_or_method",
    "instance",
    "_Feature"
   ],
   "window_display": true
  }
 },
 "nbformat": 4,
 "nbformat_minor": 2
}
